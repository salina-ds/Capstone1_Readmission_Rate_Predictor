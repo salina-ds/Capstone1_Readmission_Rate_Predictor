{
 "cells": [
  {
   "cell_type": "markdown",
   "metadata": {},
   "source": [
    "# Data Wrangling - Capstone 1"
   ]
  },
  {
   "cell_type": "markdown",
   "metadata": {},
   "source": [
    "## Introduction"
   ]
  },
  {
   "cell_type": "markdown",
   "metadata": {},
   "source": [
    "MIMIC-III is an open access database of medical records for over 40,000 de-identified patients. It includes a diverse set of electronic medical records (EMR): patient demographics, vitals, laboratory tests, procedures, medications, imaging reports, caregiver notes, and mortality data. The data corresponds to patients who were admitted to critical care units of the Beth Israel Deaconess Medical Center between 2001 and 2012.\n",
    "\n",
    "In order to gain access to MIMIC-III, I first completed the Data or Specimens Only Research course and signed the user agreement. The MIMIC-III dataset is a relational database consisting of 26 tables. Here are some key specs of this dataset:\n",
    "\n",
    "- Number of patients: 46,520\n",
    "- Number of admissions: 58,976\n",
    "- Number of planned admissions: 15,569\n",
    "- Number of unplanned admissions: 43,407\n",
    "- Number of readmissions within 30 days of discharge: 2,751\n",
    "- Number of readmissions over 30 days of discharge: 7,065\n",
    "- Number of single admissions: 33,591"
   ]
  },
  {
   "cell_type": "markdown",
   "metadata": {},
   "source": [
    "## Import Libraries\n",
    "\n",
    "# Import necessary libraries\n",
    "import pandas as pd\n",
    "import numpy as np\n",
    "import datetime\n",
    "import re\n",
    "import matplotlib.pyplot as plt\n",
    "from wordcloud import WordCloud\n",
    "from IPython import get_ipython\n",
    "import scipy.stats as spstats\n",
    "\n",
    "%run functions.ipynb\n",
    "my_variables = set(dir())"
   ]
  },
  {
   "cell_type": "code",
   "execution_count": 22,
   "metadata": {
    "ExecuteTime": {
     "end_time": "2020-04-28T16:40:32.879717Z",
     "start_time": "2020-04-28T16:40:29.865616Z"
    }
   },
   "outputs": [
    {
     "name": "stdout",
     "output_type": "stream",
     "text": [
      "Stored 'my_stop_words' (list)\n"
     ]
    }
   ],
   "source": [
    "# Import necessary libraries\n",
    "import pandas as pd\n",
    "import numpy as np\n",
    "import datetime\n",
    "import re\n",
    "import matplotlib.pyplot as plt\n",
    "from wordcloud import WordCloud\n",
    "from IPython import get_ipython\n",
    "import scipy.stats as spstats\n",
    "\n",
    "%run functions.ipynb\n",
    "my_variables = set(dir())"
   ]
  },
  {
   "cell_type": "markdown",
   "metadata": {},
   "source": [
    "## Load Data and functions"
   ]
  },
  {
   "cell_type": "code",
   "execution_count": 23,
   "metadata": {
    "ExecuteTime": {
     "end_time": "2020-04-28T16:42:17.733244Z",
     "start_time": "2020-04-28T16:40:32.886520Z"
    }
   },
   "outputs": [],
   "source": [
    "# load necessary tables from mimic database\n",
    "df_adm = pd.read_csv('../mimic-iii-clinical-database-1.4/ADMISSIONS.csv')\n",
    "df_icu = pd.read_csv('../mimic-iii-clinical-database-1.4/ICUSTAYS.csv')\n",
    "df_pat = pd.read_csv('../mimic-iii-clinical-database-1.4/PATIENTS.csv')\n",
    "df_icu = pd.read_csv('../mimic-iii-clinical-database-1.4/ICUSTAYS.csv')\n",
    "df_ser = pd.read_csv('../mimic-iii-clinical-database-1.4/SERVICES.csv')\n",
    "df_med = pd.read_csv('../mimic-iii-clinical-database-1.4/PRESCRIPTIONS.csv')\n",
    "df_dicd = pd.read_csv('../mimic-iii-clinical-database-1.4/DIAGNOSES_ICD.csv')\n",
    "df_dicdd = pd.read_csv(\n",
    "    '../mimic-iii-clinical-database-1.4/D_ICD_DIAGNOSES.csv')\n",
    "df_drg = pd.read_csv('../mimic-iii-clinical-database-1.4/DRGCODES.csv')\n",
    "# read in doctor's discharge notes from NOTEEVENTS.csv\n",
    "df_notes = pd.read_csv(\"../mimic-iii-clinical-database-1.4/NOTEEVENTS.csv\")"
   ]
  },
  {
   "cell_type": "markdown",
   "metadata": {},
   "source": [
    "## Remove planned and dead/organ donor admissions"
   ]
  },
  {
   "cell_type": "code",
   "execution_count": 17,
   "metadata": {
    "ExecuteTime": {
     "end_time": "2020-04-28T16:42:18.116372Z",
     "start_time": "2020-04-28T16:42:17.981739Z"
    }
   },
   "outputs": [
    {
     "data": {
      "text/plain": [
       "37811"
      ]
     },
     "execution_count": 17,
     "metadata": {},
     "output_type": "execute_result"
    }
   ],
   "source": [
    "df_adm = df_adm[df_adm['ADMISSION_TYPE'].isin(['EMERGENCY', 'URGENT'])\n",
    "                & (df_adm['DIAGNOSIS'] != 'ORGAN DONOR ACCOUNT')\n",
    "                & (df_adm['DISCHARGE_LOCATION'] != 'DEAD/EXPIRED')]\n",
    "len(df_adm)"
   ]
  },
  {
   "cell_type": "markdown",
   "metadata": {},
   "source": [
    "## Create Target variable and counts"
   ]
  },
  {
   "cell_type": "code",
   "execution_count": 229,
   "metadata": {
    "ExecuteTime": {
     "end_time": "2020-04-28T16:42:19.287365Z",
     "start_time": "2020-04-28T16:42:18.226746Z"
    }
   },
   "outputs": [],
   "source": [
    "# convert string dates to date-formated dates\n",
    "df_adm.ADMITTIME = convert_to_date(df_adm.ADMITTIME)\n",
    "df_adm.DISCHTIME = convert_to_date(df_adm.DISCHTIME)\n",
    "df_adm.DEATHTIME = convert_to_date(df_adm.DEATHTIME)\n",
    "df_pat.DOB = convert_to_date(df_pat.DOB)"
   ]
  },
  {
   "cell_type": "code",
   "execution_count": 230,
   "metadata": {
    "ExecuteTime": {
     "end_time": "2020-04-28T16:42:19.501783Z",
     "start_time": "2020-04-28T16:42:19.293697Z"
    }
   },
   "outputs": [
    {
     "data": {
      "text/html": [
       "<div>\n",
       "<style scoped>\n",
       "    .dataframe tbody tr th:only-of-type {\n",
       "        vertical-align: middle;\n",
       "    }\n",
       "\n",
       "    .dataframe tbody tr th {\n",
       "        vertical-align: top;\n",
       "    }\n",
       "\n",
       "    .dataframe thead th {\n",
       "        text-align: right;\n",
       "    }\n",
       "</style>\n",
       "<table border=\"1\" class=\"dataframe\">\n",
       "  <thead>\n",
       "    <tr style=\"text-align: right;\">\n",
       "      <th></th>\n",
       "      <th>ROW_ID</th>\n",
       "      <th>SUBJECT_ID</th>\n",
       "      <th>HADM_ID</th>\n",
       "      <th>ADMITTIME</th>\n",
       "      <th>DISCHTIME</th>\n",
       "      <th>DEATHTIME</th>\n",
       "      <th>ADMISSION_TYPE</th>\n",
       "      <th>ADMISSION_LOCATION</th>\n",
       "      <th>DISCHARGE_LOCATION</th>\n",
       "      <th>INSURANCE</th>\n",
       "      <th>LANGUAGE</th>\n",
       "      <th>RELIGION</th>\n",
       "      <th>MARITAL_STATUS</th>\n",
       "      <th>ETHNICITY</th>\n",
       "      <th>EDREGTIME</th>\n",
       "      <th>EDOUTTIME</th>\n",
       "      <th>DIAGNOSIS</th>\n",
       "      <th>HOSPITAL_EXPIRE_FLAG</th>\n",
       "      <th>HAS_CHARTEVENTS_DATA</th>\n",
       "    </tr>\n",
       "  </thead>\n",
       "  <tbody>\n",
       "    <tr>\n",
       "      <th>101</th>\n",
       "      <td>166</td>\n",
       "      <td>124</td>\n",
       "      <td>172461</td>\n",
       "      <td>2160-06-24 21:25:00</td>\n",
       "      <td>2160-07-15 15:10:00</td>\n",
       "      <td>NaT</td>\n",
       "      <td>EMERGENCY</td>\n",
       "      <td>TRANSFER FROM HOSP/EXTRAM</td>\n",
       "      <td>HOME HEALTH CARE</td>\n",
       "      <td>Private</td>\n",
       "      <td>NaN</td>\n",
       "      <td>CATHOLIC</td>\n",
       "      <td>MARRIED</td>\n",
       "      <td>WHITE</td>\n",
       "      <td>NaN</td>\n",
       "      <td>NaN</td>\n",
       "      <td>CVA</td>\n",
       "      <td>0</td>\n",
       "      <td>1</td>\n",
       "    </tr>\n",
       "    <tr>\n",
       "      <th>102</th>\n",
       "      <td>167</td>\n",
       "      <td>124</td>\n",
       "      <td>112906</td>\n",
       "      <td>2161-12-17 03:39:00</td>\n",
       "      <td>2161-12-24 15:35:00</td>\n",
       "      <td>NaT</td>\n",
       "      <td>EMERGENCY</td>\n",
       "      <td>EMERGENCY ROOM ADMIT</td>\n",
       "      <td>HOME</td>\n",
       "      <td>Medicare</td>\n",
       "      <td>NaN</td>\n",
       "      <td>CATHOLIC</td>\n",
       "      <td>MARRIED</td>\n",
       "      <td>WHITE</td>\n",
       "      <td>2161-12-16 18:57:00</td>\n",
       "      <td>2161-12-17 12:35:00</td>\n",
       "      <td>CHEST PAIN,R/O MI</td>\n",
       "      <td>0</td>\n",
       "      <td>1</td>\n",
       "    </tr>\n",
       "  </tbody>\n",
       "</table>\n",
       "</div>"
      ],
      "text/plain": [
       "     ROW_ID  SUBJECT_ID  HADM_ID           ADMITTIME           DISCHTIME  \\\n",
       "101     166         124   172461 2160-06-24 21:25:00 2160-07-15 15:10:00   \n",
       "102     167         124   112906 2161-12-17 03:39:00 2161-12-24 15:35:00   \n",
       "\n",
       "    DEATHTIME ADMISSION_TYPE         ADMISSION_LOCATION DISCHARGE_LOCATION  \\\n",
       "101       NaT      EMERGENCY  TRANSFER FROM HOSP/EXTRAM   HOME HEALTH CARE   \n",
       "102       NaT      EMERGENCY       EMERGENCY ROOM ADMIT               HOME   \n",
       "\n",
       "    INSURANCE LANGUAGE  RELIGION MARITAL_STATUS ETHNICITY  \\\n",
       "101   Private      NaN  CATHOLIC        MARRIED     WHITE   \n",
       "102  Medicare      NaN  CATHOLIC        MARRIED     WHITE   \n",
       "\n",
       "               EDREGTIME            EDOUTTIME          DIAGNOSIS  \\\n",
       "101                  NaN                  NaN                CVA   \n",
       "102  2161-12-16 18:57:00  2161-12-17 12:35:00  CHEST PAIN,R/O MI   \n",
       "\n",
       "     HOSPITAL_EXPIRE_FLAG  HAS_CHARTEVENTS_DATA  \n",
       "101                     0                     1  \n",
       "102                     0                     1  "
      ]
     },
     "execution_count": 230,
     "metadata": {},
     "output_type": "execute_result"
    }
   ],
   "source": [
    "# sort by subject_ID and admission date\n",
    "df_adm = df_adm.sort_values(['SUBJECT_ID', 'ADMITTIME'])\n",
    "df_adm = df_adm.reset_index(drop=True)\n",
    "# verify ADMITTIME is sorted in ascending order before inserting NEXT_ADMITTIME\n",
    "df_adm.loc[df_adm.SUBJECT_ID == 124]"
   ]
  },
  {
   "cell_type": "code",
   "execution_count": 231,
   "metadata": {
    "ExecuteTime": {
     "end_time": "2020-04-28T16:42:19.709265Z",
     "start_time": "2020-04-28T16:42:19.522055Z"
    }
   },
   "outputs": [
    {
     "data": {
      "text/html": [
       "<div>\n",
       "<style scoped>\n",
       "    .dataframe tbody tr th:only-of-type {\n",
       "        vertical-align: middle;\n",
       "    }\n",
       "\n",
       "    .dataframe tbody tr th {\n",
       "        vertical-align: top;\n",
       "    }\n",
       "\n",
       "    .dataframe thead th {\n",
       "        text-align: right;\n",
       "    }\n",
       "</style>\n",
       "<table border=\"1\" class=\"dataframe\">\n",
       "  <thead>\n",
       "    <tr style=\"text-align: right;\">\n",
       "      <th></th>\n",
       "      <th>SUBJECT_ID</th>\n",
       "      <th>HADM_ID</th>\n",
       "      <th>ADMITTIME</th>\n",
       "      <th>DISCHTIME</th>\n",
       "      <th>NEXT_ADMITTIME</th>\n",
       "    </tr>\n",
       "  </thead>\n",
       "  <tbody>\n",
       "    <tr>\n",
       "      <th>101</th>\n",
       "      <td>124</td>\n",
       "      <td>172461</td>\n",
       "      <td>2160-06-24 21:25:00</td>\n",
       "      <td>2160-07-15 15:10:00</td>\n",
       "      <td>2161-12-17 03:39:00</td>\n",
       "    </tr>\n",
       "    <tr>\n",
       "      <th>102</th>\n",
       "      <td>124</td>\n",
       "      <td>112906</td>\n",
       "      <td>2161-12-17 03:39:00</td>\n",
       "      <td>2161-12-24 15:35:00</td>\n",
       "      <td>NaT</td>\n",
       "    </tr>\n",
       "  </tbody>\n",
       "</table>\n",
       "</div>"
      ],
      "text/plain": [
       "     SUBJECT_ID  HADM_ID           ADMITTIME           DISCHTIME  \\\n",
       "101         124   172461 2160-06-24 21:25:00 2160-07-15 15:10:00   \n",
       "102         124   112906 2161-12-17 03:39:00 2161-12-24 15:35:00   \n",
       "\n",
       "         NEXT_ADMITTIME  \n",
       "101 2161-12-17 03:39:00  \n",
       "102                 NaT  "
      ]
     },
     "execution_count": 231,
     "metadata": {},
     "output_type": "execute_result"
    }
   ],
   "source": [
    "# add the next admission date and type for each subject using groupby\n",
    "# you have to use groupby otherwise the dates will be from different subjects\n",
    "df_adm['NEXT_ADMITTIME'] = df_adm.groupby('SUBJECT_ID').ADMITTIME.shift(-1)\n",
    "# verify NEXT_ADMITTIME\n",
    "df_adm.loc[\n",
    "    df_adm.SUBJECT_ID == 124,\n",
    "    ['SUBJECT_ID', 'HADM_ID', 'ADMITTIME', 'DISCHTIME', 'NEXT_ADMITTIME']]"
   ]
  },
  {
   "cell_type": "code",
   "execution_count": 232,
   "metadata": {
    "ExecuteTime": {
     "end_time": "2020-04-28T16:42:22.576037Z",
     "start_time": "2020-04-28T16:42:19.716772Z"
    }
   },
   "outputs": [],
   "source": [
    "# calculate the number of days between discharge and next admission\n",
    "df_adm['DAYS_NEXT_ADMIT'] = (df_adm.NEXT_ADMITTIME - df_adm.DISCHTIME\n",
    "                             ).dt.total_seconds() / (24 * 60 * 60)"
   ]
  },
  {
   "cell_type": "code",
   "execution_count": 233,
   "metadata": {
    "ExecuteTime": {
     "end_time": "2020-04-28T16:42:22.673514Z",
     "start_time": "2020-04-28T16:42:22.579918Z"
    }
   },
   "outputs": [
    {
     "data": {
      "text/html": [
       "<div>\n",
       "<style scoped>\n",
       "    .dataframe tbody tr th:only-of-type {\n",
       "        vertical-align: middle;\n",
       "    }\n",
       "\n",
       "    .dataframe tbody tr th {\n",
       "        vertical-align: top;\n",
       "    }\n",
       "\n",
       "    .dataframe thead th {\n",
       "        text-align: right;\n",
       "    }\n",
       "</style>\n",
       "<table border=\"1\" class=\"dataframe\">\n",
       "  <thead>\n",
       "    <tr style=\"text-align: right;\">\n",
       "      <th></th>\n",
       "      <th>SUBJECT_ID</th>\n",
       "      <th>HADM_ID</th>\n",
       "      <th>ADMITTIME</th>\n",
       "      <th>DISCHTIME</th>\n",
       "      <th>NEXT_ADMITTIME</th>\n",
       "      <th>DAYS_NEXT_ADMIT</th>\n",
       "      <th>DIAGNOSIS</th>\n",
       "    </tr>\n",
       "  </thead>\n",
       "  <tbody>\n",
       "    <tr>\n",
       "      <th>101</th>\n",
       "      <td>124</td>\n",
       "      <td>172461</td>\n",
       "      <td>2160-06-24 21:25:00</td>\n",
       "      <td>2160-07-15 15:10:00</td>\n",
       "      <td>2161-12-17 03:39:00</td>\n",
       "      <td>519.520139</td>\n",
       "      <td>CVA</td>\n",
       "    </tr>\n",
       "    <tr>\n",
       "      <th>102</th>\n",
       "      <td>124</td>\n",
       "      <td>112906</td>\n",
       "      <td>2161-12-17 03:39:00</td>\n",
       "      <td>2161-12-24 15:35:00</td>\n",
       "      <td>NaT</td>\n",
       "      <td>NaN</td>\n",
       "      <td>CHEST PAIN,R/O MI</td>\n",
       "    </tr>\n",
       "  </tbody>\n",
       "</table>\n",
       "</div>"
      ],
      "text/plain": [
       "     SUBJECT_ID  HADM_ID           ADMITTIME           DISCHTIME  \\\n",
       "101         124   172461 2160-06-24 21:25:00 2160-07-15 15:10:00   \n",
       "102         124   112906 2161-12-17 03:39:00 2161-12-24 15:35:00   \n",
       "\n",
       "         NEXT_ADMITTIME  DAYS_NEXT_ADMIT          DIAGNOSIS  \n",
       "101 2161-12-17 03:39:00       519.520139                CVA  \n",
       "102                 NaT              NaN  CHEST PAIN,R/O MI  "
      ]
     },
     "execution_count": 233,
     "metadata": {},
     "output_type": "execute_result"
    }
   ],
   "source": [
    "# verify DAYS_NEXT_ADMIT is calculated correctly: negative DAYS_NEXT_ADMIT are grouped with 'readmission within 30 days'\n",
    "df_adm.loc[df_adm.SUBJECT_ID == 124, [\n",
    "    'SUBJECT_ID', 'HADM_ID', 'ADMITTIME', 'DISCHTIME', 'NEXT_ADMITTIME',\n",
    "    'DAYS_NEXT_ADMIT', 'DIAGNOSIS'\n",
    "]]"
   ]
  },
  {
   "cell_type": "code",
   "execution_count": 234,
   "metadata": {
    "ExecuteTime": {
     "end_time": "2020-04-28T16:42:22.729886Z",
     "start_time": "2020-04-28T16:42:22.677522Z"
    }
   },
   "outputs": [
    {
     "name": "stdout",
     "output_type": "stream",
     "text": [
      "READMISSION_30DAYS=1 (readmissions within 30 days):  2272\n",
      "READMISSION_30DAYS=0 (readmissions over 30 days):  6249\n",
      "READMISSION_30DAYS=2 (never readmitted):  29290\n"
     ]
    }
   ],
   "source": [
    "# creating target variable READMISSION_30DAYS: 'never readmitted'=0, 'readmitted<=30days'=1, 'readmitted>30days'=2\n",
    "df_adm.loc[df_adm['DAYS_NEXT_ADMIT'].isna(), 'READMISSION_30DAYS'] = 2\n",
    "df_adm.loc[df_adm['DAYS_NEXT_ADMIT'] < 31, 'READMISSION_30DAYS'] = 1\n",
    "df_adm.loc[df_adm['DAYS_NEXT_ADMIT'] > 30, 'READMISSION_30DAYS'] = 0\n",
    "print('READMISSION_30DAYS=1 (readmissions within 30 days): ',\n",
    "      len(df_adm[df_adm['READMISSION_30DAYS'] == 1]))\n",
    "print('READMISSION_30DAYS=0 (readmissions over 30 days): ',\n",
    "      len(df_adm[df_adm['READMISSION_30DAYS'] == 0]))\n",
    "print('READMISSION_30DAYS=2 (never readmitted): ',\n",
    "      len(df_adm[df_adm['READMISSION_30DAYS'] == 2]))"
   ]
  },
  {
   "cell_type": "code",
   "execution_count": 235,
   "metadata": {
    "ExecuteTime": {
     "end_time": "2020-04-28T16:42:22.750989Z",
     "start_time": "2020-04-28T16:42:22.734856Z"
    }
   },
   "outputs": [],
   "source": [
    "# create a master table that only contains the target variable and features and filtering for admissions with re-admissions only\n",
    "# filter out 'never readmitted' READMISSION_30DAYS=2\n",
    "master = df_adm.loc[df_adm['READMISSION_30DAYS']!=2,\n",
    "        ['SUBJECT_ID','HADM_ID','ADMITTIME','DISCHTIME','DEATHTIME','NEXT_ADMITTIME',\n",
    "         'DAYS_NEXT_ADMIT','READMISSION_30DAYS','DISCHARGE_LOCATION','INSURANCE',\n",
    "         'MARITAL_STATUS', 'ETHNICITY','DIAGNOSIS','HOSPITAL_EXPIRE_FLAG']]"
   ]
  },
  {
   "cell_type": "code",
   "execution_count": 236,
   "metadata": {
    "ExecuteTime": {
     "end_time": "2020-04-28T16:42:22.803119Z",
     "start_time": "2020-04-28T16:42:22.759795Z"
    }
   },
   "outputs": [
    {
     "name": "stdout",
     "output_type": "stream",
     "text": [
      "% READMISSION_30DAYS=1 (readmissions within 30 days):  26.7%\n",
      "% READMISSION_30DAYS=0 (readmissions over 30 days):  73.3%\n"
     ]
    }
   ],
   "source": [
    "# check the distribution of READMISSION_30DAYS\n",
    "total = len(master)\n",
    "target1 = master.loc[master['READMISSION_30DAYS'] == 1, 'SUBJECT_ID'].count()\n",
    "target0 = master.loc[master['READMISSION_30DAYS'] == 0, 'SUBJECT_ID'].count()\n",
    "\n",
    "print('% READMISSION_30DAYS=1 (readmissions within 30 days): ',\n",
    "      \"{0:.1%}\".format(target1 / total))\n",
    "print('% READMISSION_30DAYS=0 (readmissions over 30 days): ',\n",
    "      \"{0:.1%}\".format(target0 / total))"
   ]
  },
  {
   "cell_type": "code",
   "execution_count": 237,
   "metadata": {
    "ExecuteTime": {
     "end_time": "2020-04-28T16:42:22.827172Z",
     "start_time": "2020-04-28T16:42:22.808488Z"
    }
   },
   "outputs": [
    {
     "data": {
      "text/html": [
       "<div>\n",
       "<style scoped>\n",
       "    .dataframe tbody tr th:only-of-type {\n",
       "        vertical-align: middle;\n",
       "    }\n",
       "\n",
       "    .dataframe tbody tr th {\n",
       "        vertical-align: top;\n",
       "    }\n",
       "\n",
       "    .dataframe thead th {\n",
       "        text-align: right;\n",
       "    }\n",
       "</style>\n",
       "<table border=\"1\" class=\"dataframe\">\n",
       "  <thead>\n",
       "    <tr style=\"text-align: right;\">\n",
       "      <th></th>\n",
       "      <th>SUBJECT_ID</th>\n",
       "      <th>ADMITTIME</th>\n",
       "      <th>NEXT_ADMITTIME</th>\n",
       "      <th>DAYS_NEXT_ADMIT</th>\n",
       "      <th>READMISSION_30DAYS</th>\n",
       "    </tr>\n",
       "  </thead>\n",
       "  <tbody>\n",
       "    <tr>\n",
       "      <th>15</th>\n",
       "      <td>34</td>\n",
       "      <td>2186-07-18 16:46:00</td>\n",
       "      <td>2191-02-23 05:23:00</td>\n",
       "      <td>1678.557639</td>\n",
       "      <td>0.0</td>\n",
       "    </tr>\n",
       "    <tr>\n",
       "      <th>17</th>\n",
       "      <td>36</td>\n",
       "      <td>2131-04-30 07:15:00</td>\n",
       "      <td>2131-05-12 19:49:00</td>\n",
       "      <td>4.242361</td>\n",
       "      <td>1.0</td>\n",
       "    </tr>\n",
       "    <tr>\n",
       "      <th>35</th>\n",
       "      <td>68</td>\n",
       "      <td>2173-12-15 16:16:00</td>\n",
       "      <td>2174-01-04 22:21:00</td>\n",
       "      <td>1.160417</td>\n",
       "      <td>1.0</td>\n",
       "    </tr>\n",
       "    <tr>\n",
       "      <th>45</th>\n",
       "      <td>85</td>\n",
       "      <td>2162-03-02 14:04:00</td>\n",
       "      <td>2167-07-25 18:49:00</td>\n",
       "      <td>1963.231944</td>\n",
       "      <td>0.0</td>\n",
       "    </tr>\n",
       "    <tr>\n",
       "      <th>48</th>\n",
       "      <td>94</td>\n",
       "      <td>2176-02-25 16:49:00</td>\n",
       "      <td>2176-09-02 14:22:00</td>\n",
       "      <td>185.859028</td>\n",
       "      <td>0.0</td>\n",
       "    </tr>\n",
       "  </tbody>\n",
       "</table>\n",
       "</div>"
      ],
      "text/plain": [
       "    SUBJECT_ID           ADMITTIME      NEXT_ADMITTIME  DAYS_NEXT_ADMIT  \\\n",
       "15          34 2186-07-18 16:46:00 2191-02-23 05:23:00      1678.557639   \n",
       "17          36 2131-04-30 07:15:00 2131-05-12 19:49:00         4.242361   \n",
       "35          68 2173-12-15 16:16:00 2174-01-04 22:21:00         1.160417   \n",
       "45          85 2162-03-02 14:04:00 2167-07-25 18:49:00      1963.231944   \n",
       "48          94 2176-02-25 16:49:00 2176-09-02 14:22:00       185.859028   \n",
       "\n",
       "    READMISSION_30DAYS  \n",
       "15                 0.0  \n",
       "17                 1.0  \n",
       "35                 1.0  \n",
       "45                 0.0  \n",
       "48                 0.0  "
      ]
     },
     "execution_count": 237,
     "metadata": {},
     "output_type": "execute_result"
    }
   ],
   "source": [
    "# verify target varible is calculated correctly\n",
    "master[['SUBJECT_ID','ADMITTIME','NEXT_ADMITTIME','DAYS_NEXT_ADMIT','READMISSION_30DAYS']].head()"
   ]
  },
  {
   "cell_type": "markdown",
   "metadata": {},
   "source": [
    "## Feature Engineering"
   ]
  },
  {
   "cell_type": "markdown",
   "metadata": {},
   "source": [
    "### Create feature AGE "
   ]
  },
  {
   "cell_type": "code",
   "execution_count": 238,
   "metadata": {
    "ExecuteTime": {
     "end_time": "2020-04-28T16:42:23.006524Z",
     "start_time": "2020-04-28T16:42:22.831877Z"
    }
   },
   "outputs": [
    {
     "data": {
      "text/html": [
       "<div>\n",
       "<style scoped>\n",
       "    .dataframe tbody tr th:only-of-type {\n",
       "        vertical-align: middle;\n",
       "    }\n",
       "\n",
       "    .dataframe tbody tr th {\n",
       "        vertical-align: top;\n",
       "    }\n",
       "\n",
       "    .dataframe thead th {\n",
       "        text-align: right;\n",
       "    }\n",
       "</style>\n",
       "<table border=\"1\" class=\"dataframe\">\n",
       "  <thead>\n",
       "    <tr style=\"text-align: right;\">\n",
       "      <th></th>\n",
       "      <th>SUBJECT_ID</th>\n",
       "      <th>ADMITTIME</th>\n",
       "      <th>DOB</th>\n",
       "      <th>AGE</th>\n",
       "    </tr>\n",
       "  </thead>\n",
       "  <tbody>\n",
       "    <tr>\n",
       "      <th>0</th>\n",
       "      <td>34</td>\n",
       "      <td>2186-07-18 16:46:00</td>\n",
       "      <td>1886-07-18</td>\n",
       "      <td>299.996437</td>\n",
       "    </tr>\n",
       "    <tr>\n",
       "      <th>1</th>\n",
       "      <td>36</td>\n",
       "      <td>2131-04-30 07:15:00</td>\n",
       "      <td>2061-08-17</td>\n",
       "      <td>69.698295</td>\n",
       "    </tr>\n",
       "    <tr>\n",
       "      <th>2</th>\n",
       "      <td>68</td>\n",
       "      <td>2173-12-15 16:16:00</td>\n",
       "      <td>2132-02-29</td>\n",
       "      <td>41.795148</td>\n",
       "    </tr>\n",
       "    <tr>\n",
       "      <th>3</th>\n",
       "      <td>85</td>\n",
       "      <td>2162-03-02 14:04:00</td>\n",
       "      <td>2090-09-18</td>\n",
       "      <td>71.451297</td>\n",
       "    </tr>\n",
       "    <tr>\n",
       "      <th>4</th>\n",
       "      <td>94</td>\n",
       "      <td>2176-02-25 16:49:00</td>\n",
       "      <td>2101-09-20</td>\n",
       "      <td>74.433130</td>\n",
       "    </tr>\n",
       "  </tbody>\n",
       "</table>\n",
       "</div>"
      ],
      "text/plain": [
       "   SUBJECT_ID           ADMITTIME        DOB         AGE\n",
       "0          34 2186-07-18 16:46:00 1886-07-18  299.996437\n",
       "1          36 2131-04-30 07:15:00 2061-08-17   69.698295\n",
       "2          68 2173-12-15 16:16:00 2132-02-29   41.795148\n",
       "3          85 2162-03-02 14:04:00 2090-09-18   71.451297\n",
       "4          94 2176-02-25 16:49:00 2101-09-20   74.433130"
      ]
     },
     "execution_count": 238,
     "metadata": {},
     "output_type": "execute_result"
    }
   ],
   "source": [
    "# add Date-Of-Birth to master table to facilitate Age calculation\n",
    "#master.drop(['DOB_x','DOB_y'],axis=1,inplace=True)\n",
    "master = pd.merge(master,\n",
    "                  df_pat[['SUBJECT_ID', 'DOB','GENDER']],\n",
    "                  on=['SUBJECT_ID'],\n",
    "                  how='left')\n",
    "# Age is calculated by subtracting DOB from ADMITTIME in units of year\n",
    "master['AGE'] = (master.ADMITTIME.apply(lambda x: x.timestamp()) -\n",
    "                 master.DOB.apply(lambda x: x.timestamp())\n",
    "                 ).apply(lambda x: x / (24 * 60 * 60 * 365.25))\n",
    "# verify Age is calculated correctly\n",
    "master[['SUBJECT_ID', 'ADMITTIME', 'DOB', 'AGE']].head()"
   ]
  },
  {
   "cell_type": "code",
   "execution_count": 239,
   "metadata": {
    "ExecuteTime": {
     "end_time": "2020-04-28T16:42:23.029260Z",
     "start_time": "2020-04-28T16:42:23.013742Z"
    }
   },
   "outputs": [],
   "source": [
    "# replace 300 yrs-old, 1928 patients, with 91 which is median age of this group of patients\n",
    "mask = master.AGE > 89\n",
    "master.loc[mask, 'AGE'] = 91\n",
    "# remove new born and children\n",
    "master = master.loc[master['AGE'] > 18]"
   ]
  },
  {
   "cell_type": "markdown",
   "metadata": {},
   "source": [
    "### Ethnicity Groups- reduce dimensions"
   ]
  },
  {
   "cell_type": "code",
   "execution_count": 240,
   "metadata": {
    "ExecuteTime": {
     "end_time": "2020-04-28T16:42:23.163347Z",
     "start_time": "2020-04-28T16:42:23.033624Z"
    }
   },
   "outputs": [
    {
     "data": {
      "text/plain": [
       "ETHNICITY_GRP\n",
       "ASIAN        173\n",
       "BLACK       1564\n",
       "HISPANIC     374\n",
       "OTHER        410\n",
       "WHITE       5992\n",
       "Name: ETHNICITY_GRP, dtype: int64"
      ]
     },
     "execution_count": 240,
     "metadata": {},
     "output_type": "execute_result"
    }
   ],
   "source": [
    "# group different variation of the same ethnicity into one group\n",
    "master['ETHNICITY_GRP'] = master.ETHNICITY.replace({\n",
    "    'AMERICAN INDIAN/ALASKA NATIVE':\n",
    "    'OTHER',\n",
    "    'AMERICAN INDIAN/ALASKA NATIVE FEDERALLY RECOGNIZED TRIBE':\n",
    "    'OTHER',\n",
    "    'ASIAN - ASIAN INDIAN':\n",
    "    'ASIAN',\n",
    "    'ASIAN - CAMBODIAN':\n",
    "    'ASIAN',\n",
    "    'ASIAN - CHINESE':\n",
    "    'ASIAN',\n",
    "    'ASIAN - FILIPINO':\n",
    "    'ASIAN',\n",
    "    'ASIAN - KOREAN':\n",
    "    'ASIAN',\n",
    "    'ASIAN - OTHER':\n",
    "    'ASIAN',\n",
    "    'ASIAN - THAI':\n",
    "    'ASIAN',\n",
    "    'ASIAN - VIETNAMESE':\n",
    "    'ASIAN',\n",
    "    'BLACK/AFRICAN':\n",
    "    'BLACK',\n",
    "    'BLACK/AFRICAN AMERICAN':\n",
    "    'BLACK',\n",
    "    'BLACK/CAPE VERDEAN':\n",
    "    'BLACK',\n",
    "    'BLACK/HAITIAN':\n",
    "    'BLACK',\n",
    "    'CARIBBEAN ISLAND':\n",
    "    'BLACK',\n",
    "    'HISPANIC OR LATINO':\n",
    "    'HISPANIC',\n",
    "    'HISPANIC/LATINO - CENTRAL AMERICAN (OTHER)':\n",
    "    'HISPANIC',\n",
    "    'HISPANIC/LATINO - CUBAN':\n",
    "    'HISPANIC',\n",
    "    'HISPANIC/LATINO - DOMINICAN':\n",
    "    'HISPANIC',\n",
    "    'HISPANIC/LATINO - GUATEMALAN':\n",
    "    'HISPANIC',\n",
    "    'HISPANIC/LATINO - MEXICAN':\n",
    "    'HISPANIC',\n",
    "    'HISPANIC/LATINO - PUERTO RICAN':\n",
    "    'HISPANIC',\n",
    "    'HISPANIC/LATINO - SALVADORAN':\n",
    "    'HISPANIC',\n",
    "    'MIDDLE EASTERN':\n",
    "    'WHITE',\n",
    "    'MULTI RACE ETHNICITY':\n",
    "    'OTHER',\n",
    "    'NATIVE HAWAIIAN OR OTHER PACIFIC ISLANDER':\n",
    "    'OTHER',\n",
    "    'PATIENT DECLINED TO ANSWER':\n",
    "    'OTHER',\n",
    "    'UNABLE TO OBTAIN':\n",
    "    'OTHER',\n",
    "    'PORTUGUESE':\n",
    "    'WHITE',\n",
    "    'UNKNOWN/NOT SPECIFIED':\n",
    "    'OTHER',\n",
    "    'WHITE - BRAZILIAN':\n",
    "    'WHITE',\n",
    "    'WHITE - EASTERN EUROPEAN':\n",
    "    'WHITE',\n",
    "    'WHITE - OTHER EUROPEAN':\n",
    "    'WHITE',\n",
    "    'WHITE - RUSSIAN':\n",
    "    'WHITE'\n",
    "})\n",
    "\n",
    "# count by ethnicity groups\n",
    "master.groupby('ETHNICITY_GRP')['ETHNICITY_GRP'].agg('count')"
   ]
  },
  {
   "cell_type": "markdown",
   "metadata": {},
   "source": [
    "### Create Current Service feature"
   ]
  },
  {
   "cell_type": "code",
   "execution_count": 241,
   "metadata": {
    "ExecuteTime": {
     "end_time": "2020-04-28T16:42:31.818417Z",
     "start_time": "2020-04-28T16:42:23.188129Z"
    }
   },
   "outputs": [],
   "source": [
    "# find last transfer time in order to find the final CURR_SERVICE that the patient was admitted under\n",
    "max_trsf = df_ser.groupby('HADM_ID')['TRANSFERTIME'].agg('max')\n",
    "last_trsf = pd.DataFrame(data=max_trsf,index=None)\n",
    "last_trsf['HADM_ID']=last_trsf.index\n",
    "last_trsf.columns=['TRANSFERTIME','HADM_ID']\n",
    "last_trsf.reset_index(drop=True,inplace=True)\n",
    "assert last_trsf.duplicated(['HADM_ID']).sum() == 0, 'Multiple current service per admission'"
   ]
  },
  {
   "cell_type": "code",
   "execution_count": 242,
   "metadata": {
    "ExecuteTime": {
     "end_time": "2020-04-28T16:42:32.166956Z",
     "start_time": "2020-04-28T16:42:31.848685Z"
    }
   },
   "outputs": [],
   "source": [
    "last_ser = pd.merge(last_trsf, df_ser[['SUBJECT_ID','HADM_ID','TRANSFERTIME','CURR_SERVICE']],\n",
    "                    on=['HADM_ID','TRANSFERTIME'], how='left')\n",
    "# adding CURR_SERVICE to master table; 9 admissions with missing CURR_SERVICE\n",
    "master = pd.merge(master,last_ser[['SUBJECT_ID','HADM_ID','CURR_SERVICE']],\n",
    "                  on=['SUBJECT_ID','HADM_ID'],how='left')"
   ]
  },
  {
   "cell_type": "code",
   "execution_count": 243,
   "metadata": {
    "ExecuteTime": {
     "end_time": "2020-04-28T16:42:32.193932Z",
     "start_time": "2020-04-28T16:42:32.172139Z"
    },
    "scrolled": true
   },
   "outputs": [],
   "source": [
    "# reduce cardinality CURR_SERVICE\n",
    "master['CURR_SERVICE'].replace({'ORTHO':'OTHER','GU':'OTHER','ENT':'OTHER','PSURG':'OTHER','GYN':'OTHER',\n",
    "                                'OBS':'OTHER', np.nan:'OTHER'},inplace=True)"
   ]
  },
  {
   "cell_type": "code",
   "execution_count": 244,
   "metadata": {
    "ExecuteTime": {
     "end_time": "2020-04-28T16:42:32.219641Z",
     "start_time": "2020-04-28T16:42:32.209967Z"
    }
   },
   "outputs": [
    {
     "data": {
      "text/plain": [
       "Index(['SUBJECT_ID', 'HADM_ID', 'ADMITTIME', 'DISCHTIME', 'DEATHTIME',\n",
       "       'NEXT_ADMITTIME', 'DAYS_NEXT_ADMIT', 'READMISSION_30DAYS',\n",
       "       'DISCHARGE_LOCATION', 'INSURANCE', 'MARITAL_STATUS', 'ETHNICITY',\n",
       "       'DIAGNOSIS', 'HOSPITAL_EXPIRE_FLAG', 'DOB', 'GENDER', 'AGE',\n",
       "       'ETHNICITY_GRP', 'CURR_SERVICE'],\n",
       "      dtype='object')"
      ]
     },
     "execution_count": 244,
     "metadata": {},
     "output_type": "execute_result"
    }
   ],
   "source": [
    "master.columns"
   ]
  },
  {
   "cell_type": "markdown",
   "metadata": {},
   "source": [
    "### Create Number of prescriptions feature"
   ]
  },
  {
   "cell_type": "code",
   "execution_count": 245,
   "metadata": {
    "ExecuteTime": {
     "end_time": "2020-04-28T16:42:33.975577Z",
     "start_time": "2020-04-28T16:42:32.227631Z"
    }
   },
   "outputs": [],
   "source": [
    "#df_med = pd.read_csv('../mimic-iii-clinical-database-1.4/PRESCRIPTIONS.csv')\n",
    "num_med = df_med.groupby(['SUBJECT_ID', 'HADM_ID'])['DRUG'].agg('count')\n",
    "# groupby returns a Series, need to convert to dataframe\n",
    "num_med_df = pd.DataFrame(data=num_med, index=None)\n",
    "num_med_df['ID'] = num_med_df.index\n",
    "num_med_df.reset_index(drop=True, inplace=True)\n",
    "# SUBJECT_ID and HADM_ID were grouped as a tuple as a result of resetting index\n",
    "# unpack index to get SUBJECT_ID and HADM_ID in seperate columns\n",
    "sid_list = []\n",
    "hid_list = []\n",
    "for i in num_med_df['ID']:\n",
    "    sid, hid = i\n",
    "    sid_list.append(sid)\n",
    "    hid_list.append(hid)\n",
    "# add SUBJECT_ID and HADM_ID back to num_med_df as seperate columns\n",
    "num_med_df['SUBJECT_ID'] = sid_list\n",
    "num_med_df['HADM_ID'] = hid_list\n",
    "# rename columns\n",
    "num_med_df.columns = ['NUM_PRESCRIPTION', 'ID', 'SUBJECT_ID', 'HADM_ID']\n",
    "# drop tuple index\n",
    "num_med_df.drop(['ID'], axis=1, inplace=True)\n",
    "# rearrange columns\n",
    "num_med_df = num_med_df[['SUBJECT_ID', 'HADM_ID', 'NUM_PRESCRIPTION']]"
   ]
  },
  {
   "cell_type": "code",
   "execution_count": 246,
   "metadata": {
    "ExecuteTime": {
     "end_time": "2020-04-28T16:42:34.045974Z",
     "start_time": "2020-04-28T16:42:33.979359Z"
    }
   },
   "outputs": [],
   "source": [
    "# add NUM_PRESCRIPTION to master table\n",
    "master = pd.merge(master,num_med_df[['SUBJECT_ID','HADM_ID','NUM_PRESCRIPTION']],on=['SUBJECT_ID','HADM_ID'],how='left')"
   ]
  },
  {
   "cell_type": "code",
   "execution_count": 247,
   "metadata": {
    "ExecuteTime": {
     "end_time": "2020-04-28T16:42:34.063638Z",
     "start_time": "2020-04-28T16:42:34.053351Z"
    }
   },
   "outputs": [
    {
     "data": {
      "text/plain": [
       "False"
      ]
     },
     "execution_count": 247,
     "metadata": {},
     "output_type": "execute_result"
    }
   ],
   "source": [
    "# replace missing with 0's\n",
    "master['NUM_PRESCRIPTION'].replace({np.nan: 0}, inplace=True)\n",
    "np.isnan(master['NUM_PRESCRIPTION']).any()"
   ]
  },
  {
   "cell_type": "markdown",
   "metadata": {},
   "source": [
    "### Create Length Of Stay Ratio (LOS_RATIO) feature"
   ]
  },
  {
   "cell_type": "markdown",
   "metadata": {},
   "source": [
    "LOS_RATIO is defined as the sum of all ICU length of stay during a hospital stay divided by the total length of stay of that same hospital stay."
   ]
  },
  {
   "cell_type": "code",
   "execution_count": 248,
   "metadata": {
    "ExecuteTime": {
     "end_time": "2020-04-28T16:42:34.393780Z",
     "start_time": "2020-04-28T16:42:34.070585Z"
    }
   },
   "outputs": [],
   "source": [
    "# replace LOS missing values in ICU_STAY table with 0; missing due to df_icu.OUTTIME missing which is most likely due to system integration mistakes\n",
    "df_icu['LOS'].fillna(0, inplace=True)\n",
    "# create ratio numerator by summing all ICU LOS per hospital admission\n",
    "iculos = df_icu.groupby('HADM_ID')['LOS'].agg('sum').to_frame().reset_index()\n",
    "# create ratio denominator by calculate total hospital length of stay i.e. Discharge Time - Admit Time\n",
    "hlos = (master['DISCHTIME'] - master['ADMITTIME'])\n",
    "master['HLOS'] = hlos.apply(lambda x: x / np.timedelta64(1, 'D'))\n",
    "# add ICU LOS to master\n",
    "master = pd.merge(master, iculos[['HADM_ID', 'LOS']], on=['HADM_ID'], how='left')"
   ]
  },
  {
   "cell_type": "markdown",
   "metadata": {},
   "source": [
    "**Handle missing and unreasonable values before calculating feature**\n",
    "* ICU LOS missing: hospital admissions (HADM_ID) cannot be found in ICU_STAYS table (drop 250 rows)\n",
    "* ICU LOS greater than Hospital LOS (HLOS): ICU length of stay is longer than the hospital; use the one from ICU\n",
    "* HLOS is negative: ADMITTIME is after DISCHTIME; use ICU LOS if exist\n",
    "\n",
    "Keep the original values for LOS and HLOS by fixing the values and saving as new columns."
   ]
  },
  {
   "cell_type": "code",
   "execution_count": 249,
   "metadata": {
    "ExecuteTime": {
     "end_time": "2020-04-28T16:42:34.437220Z",
     "start_time": "2020-04-28T16:42:34.398462Z"
    }
   },
   "outputs": [],
   "source": [
    "# drop rows with missing LOS_RATIO caused by missing LOS in ICU_STAYS\n",
    "master.dropna(subset=['LOS'], inplace=True)\n",
    "\n",
    "loslist=zip(master['LOS'],master['HLOS'])\n",
    "hlos_cl=[]\n",
    "for los, hlos in loslist:\n",
    "# 1. ICU length of stay is greater than hospital length of stay\n",
    "# 2. Hospital length of stay is negative because time of admission is after time of discharge\n",
    "    if ((los>hlos)|(hlos<0)):\n",
    "        hlos_cl.append(los)\n",
    "    else:\n",
    "        hlos_cl.append(hlos)\n",
    "master['HLOS_CL']=hlos_cl"
   ]
  },
  {
   "cell_type": "code",
   "execution_count": 250,
   "metadata": {
    "ExecuteTime": {
     "end_time": "2020-04-28T16:42:34.455535Z",
     "start_time": "2020-04-28T16:42:34.442160Z"
    }
   },
   "outputs": [],
   "source": [
    "# calculate LOS_RATIO\n",
    "master['LOS_RATIO'] = master.LOS / master.HLOS_CL"
   ]
  },
  {
   "cell_type": "code",
   "execution_count": 251,
   "metadata": {
    "ExecuteTime": {
     "end_time": "2020-04-28T16:42:34.510086Z",
     "start_time": "2020-04-28T16:42:34.462015Z"
    }
   },
   "outputs": [
    {
     "data": {
      "text/html": [
       "<div>\n",
       "<style scoped>\n",
       "    .dataframe tbody tr th:only-of-type {\n",
       "        vertical-align: middle;\n",
       "    }\n",
       "\n",
       "    .dataframe tbody tr th {\n",
       "        vertical-align: top;\n",
       "    }\n",
       "\n",
       "    .dataframe thead th {\n",
       "        text-align: right;\n",
       "    }\n",
       "</style>\n",
       "<table border=\"1\" class=\"dataframe\">\n",
       "  <thead>\n",
       "    <tr style=\"text-align: right;\">\n",
       "      <th></th>\n",
       "      <th>SUBJECT_ID</th>\n",
       "      <th>HADM_ID</th>\n",
       "      <th>ADMITTIME</th>\n",
       "      <th>DISCHTIME</th>\n",
       "      <th>LOS</th>\n",
       "      <th>HLOS</th>\n",
       "      <th>HLOS_CL</th>\n",
       "      <th>LOS_RATIO</th>\n",
       "      <th>READMISSION_30DAYS</th>\n",
       "    </tr>\n",
       "  </thead>\n",
       "  <tbody>\n",
       "  </tbody>\n",
       "</table>\n",
       "</div>"
      ],
      "text/plain": [
       "Empty DataFrame\n",
       "Columns: [SUBJECT_ID, HADM_ID, ADMITTIME, DISCHTIME, LOS, HLOS, HLOS_CL, LOS_RATIO, READMISSION_30DAYS]\n",
       "Index: []"
      ]
     },
     "execution_count": 251,
     "metadata": {},
     "output_type": "execute_result"
    }
   ],
   "source": [
    "# check LOS_RATIO\n",
    "master.loc[((master['LOS_RATIO']>1.0)|(master['LOS_RATIO']<0.0)),['SUBJECT_ID','HADM_ID','ADMITTIME','DISCHTIME','LOS','HLOS','HLOS_CL','LOS_RATIO','READMISSION_30DAYS']]"
   ]
  },
  {
   "cell_type": "markdown",
   "metadata": {
    "ExecuteTime": {
     "end_time": "2020-04-19T21:31:29.727960Z",
     "start_time": "2020-04-19T21:31:29.708768Z"
    }
   },
   "source": [
    "### Extract Diagnosis features from ICD9_CODE"
   ]
  },
  {
   "cell_type": "code",
   "execution_count": 252,
   "metadata": {
    "ExecuteTime": {
     "end_time": "2020-04-28T16:42:35.212611Z",
     "start_time": "2020-04-28T16:42:34.528273Z"
    }
   },
   "outputs": [],
   "source": [
    "# pull ICD9_CODE description from df_dicdd into df_dicd\n",
    "df_dicd = pd.merge(df_dicd[['SUBJECT_ID', 'HADM_ID', 'SEQ_NUM', 'ICD9_CODE']],\n",
    "                   df_dicdd[['ICD9_CODE', 'SHORT_TITLE', 'LONG_TITLE']],\n",
    "                   on=['ICD9_CODE'],\n",
    "                   how='left')\n",
    "# filter out admissions that are not in master\n",
    "df_dicd = pd.merge(df_dicd,\n",
    "                   master[['SUBJECT_ID', 'HADM_ID', 'READMISSION_30DAYS']],\n",
    "                   on=['SUBJECT_ID', 'HADM_ID'],\n",
    "                   how='left')\n",
    "# filter out admissions with no ICD9_CODE\n",
    "df_dicd = df_dicd.loc[~df_dicd['READMISSION_30DAYS'].isna()]"
   ]
  },
  {
   "cell_type": "code",
   "execution_count": 253,
   "metadata": {
    "ExecuteTime": {
     "end_time": "2020-04-28T16:42:35.798194Z",
     "start_time": "2020-04-28T16:42:35.247546Z"
    }
   },
   "outputs": [
    {
     "data": {
      "text/plain": [
       "0    hypertensive chronic kidney disease  malignant...\n",
       "1                      pneumonia  organism unspecified\n",
       "2    chronic glomerulonephritis in diseases classif...\n",
       "3                      chronic kidney disease  stage v\n",
       "4                       other primary cardiomyopathies\n",
       "5                                             acidosis\n",
       "6                         systemic lupus erythematosus\n",
       "7                                      hyperpotassemia\n",
       "8                                             sciatica\n",
       "9                         other iatrogenic hypotension\n",
       "Name: LONG_TITLE_CL, dtype: object"
      ]
     },
     "execution_count": 253,
     "metadata": {},
     "output_type": "execute_result"
    }
   ],
   "source": [
    "preprocess_text(df_dicd,'LONG_TITLE')"
   ]
  },
  {
   "cell_type": "code",
   "execution_count": 254,
   "metadata": {
    "ExecuteTime": {
     "end_time": "2020-04-28T16:42:35.836116Z",
     "start_time": "2020-04-28T16:42:35.802662Z"
    }
   },
   "outputs": [],
   "source": [
    "# concatinate all of the ICD9_CODE descriptions into one big long string for creating wordcloud visualization\n",
    "s = df_dicd['LONG_TITLE_CL']\n",
    "text = s.str.cat(sep=' ')"
   ]
  },
  {
   "cell_type": "code",
   "execution_count": 255,
   "metadata": {
    "ExecuteTime": {
     "end_time": "2020-04-28T16:42:38.617344Z",
     "start_time": "2020-04-28T16:42:35.840216Z"
    },
    "scrolled": true
   },
   "outputs": [
    {
     "data": {
      "image/png": "[encoded data removed]",
      "text/plain": [
       "<Figure size 432x288 with 1 Axes>"
      ]
     },
     "metadata": {
      "needs_background": "light"
     },
     "output_type": "display_data"
    }
   ],
   "source": [
    "# create word cloud for diagnosis @ discharge\n",
    "wordcloud = WordCloud(max_font_size=80,\n",
    "                      max_words=200,\n",
    "                      background_color=\"black\").generate(text)\n",
    "plt.figure()\n",
    "plt.imshow(wordcloud, interpolation=\"bilinear\")\n",
    "plt.axis(\"off\")\n",
    "plt.show()"
   ]
  },
  {
   "cell_type": "code",
   "execution_count": 256,
   "metadata": {
    "ExecuteTime": {
     "end_time": "2020-04-28T16:42:38.628354Z",
     "start_time": "2020-04-28T16:42:38.622450Z"
    }
   },
   "outputs": [],
   "source": [
    "# filter for specific disease\n",
    "#df_dicd.loc[df_dicd['longtitle_clean'].str.contains('septi|sepsi',regex=True)]"
   ]
  },
  {
   "cell_type": "markdown",
   "metadata": {},
   "source": [
    "Base on the word cloud, I have manually identified 20 most frequently occurring diagnoses"
   ]
  },
  {
   "cell_type": "code",
   "execution_count": 257,
   "metadata": {
    "ExecuteTime": {
     "end_time": "2020-04-28T16:42:38.649692Z",
     "start_time": "2020-04-28T16:42:38.633856Z"
    }
   },
   "outputs": [
    {
     "name": "stdout",
     "output_type": "stream",
     "text": [
      "{'KD': 'kidney', 'HP': 'hypertension', 'PUL': 'pulmonary', 'UT': 'urinary', 'HIV': 'human immunodeficiency', 'DB': 'diabe', 'MBD': 'mental|bipolar|depress', 'TB': 'tuberculosis', 'GA': 'gastr', 'HM': 'hemorrhage', 'HEP': 'hepatitis', 'HO': 'hypotension', 'FR': 'fracture', 'TX': 'toxic', 'LA': 'laceration', 'AF': 'atrial fibrillation', 'CB': 'coronary bypass', 'PNE': 'pneumon', 'HF': 'heart failure', 'SP': 'septi|sepsi'}\n"
     ]
    }
   ],
   "source": [
    "# create a dictionary that contains the abbreviation and search-term for diagnosis\n",
    "keys = [\n",
    "    'KD', 'HP', 'PUL', 'UT', 'HIV', 'DB', 'MBD', 'TB', 'GA', 'HM', 'HEP', 'HO',\n",
    "    'FR', 'TX', 'LA', 'AF', 'CB', 'PNE', 'HF', 'SP'\n",
    "]\n",
    "values = [\n",
    "    'kidney', 'hypertension', 'pulmonary', 'urinary', 'human immunodeficiency',\n",
    "    'diabe', 'mental|bipolar|depress', 'tuberculosis', 'gastr', 'hemorrhage',\n",
    "    'hepatitis', 'hypotension', 'fracture', 'toxic', 'laceration',\n",
    "    'atrial fibrillation', 'coronary bypass', 'pneumon', 'heart failure',\n",
    "    'septi|sepsi'\n",
    "]\n",
    "diagnosis_dict = {keys[i]: values[i] for i in range(len(keys))}\n",
    "print(str(diagnosis_dict))"
   ]
  },
  {
   "cell_type": "code",
   "execution_count": 258,
   "metadata": {
    "ExecuteTime": {
     "end_time": "2020-04-28T16:42:45.476472Z",
     "start_time": "2020-04-28T16:42:38.656172Z"
    }
   },
   "outputs": [],
   "source": [
    "# generate binary variables for each diagnosis which will be inputs to the model as featuers\n",
    "for k, v in diagnosis_dict.items():\n",
    "    df_dicd[k] = df_dicd['LONG_TITLE_CL'].str.contains(v, regex=True, case=False).astype(int)\n",
    "    df_md = df_dicd[['SUBJECT_ID', 'HADM_ID',\n",
    "                     k]].groupby(['SUBJECT_ID',\n",
    "                                  'HADM_ID']).agg('sum').reset_index()\n",
    "    df_md[k] = df_md[k].apply(lambda x: 1.0 if x >= 1 else 0.0)\n",
    "    master = pd.merge(master, df_md, on=['SUBJECT_ID', 'HADM_ID'], how='left')"
   ]
  },
  {
   "cell_type": "markdown",
   "metadata": {},
   "source": [
    "### Create Comorbidity features"
   ]
  },
  {
   "cell_type": "code",
   "execution_count": 259,
   "metadata": {
    "ExecuteTime": {
     "end_time": "2020-04-28T16:42:46.059083Z",
     "start_time": "2020-04-28T16:42:45.479714Z"
    }
   },
   "outputs": [
    {
     "data": {
      "text/plain": [
       "0    traumatic stupor & coma  coma  1 hr age  17 wi...\n",
       "1    major cardiovascular procedures with complicat...\n",
       "2              neonate with other significant problems\n",
       "3    specific cerebrovascular disorders except tran...\n",
       "4              neonate with other significant problems\n",
       "5    neonates  died or transferred to another acute...\n",
       "6    cardiac valve & other major cardiothoracic pro...\n",
       "7    other respiratory system diagnoses with compli...\n",
       "8                coronary bypass with cardiac catheter\n",
       "9    specific cerebrovascular disorders except tran...\n",
       "Name: DESCRIPTION_CL, dtype: object"
      ]
     },
     "execution_count": 259,
     "metadata": {},
     "output_type": "execute_result"
    }
   ],
   "source": [
    "# clean up the description field in the Diagnosis Related Groups table\n",
    "preprocess_text(df_drg,'DESCRIPTION')"
   ]
  },
  {
   "cell_type": "code",
   "execution_count": 260,
   "metadata": {
    "ExecuteTime": {
     "end_time": "2020-04-28T16:42:46.073019Z",
     "start_time": "2020-04-28T16:42:46.062664Z"
    }
   },
   "outputs": [
    {
     "name": "stdout",
     "output_type": "stream",
     "text": [
      "{'WMCC': 'wmcc', 'WCC': 'wcc', 'WOCCMCC': 'wnoncc|w/occ/mcc', 'WOMCC': 'w/o mcc', 'WCCMCC': 'wcc/mcc'}\n"
     ]
    }
   ],
   "source": [
    "# create a dictionary that contains the abbreviation and search-term for the existence of comorbidity\n",
    "keys = ['WMCC', 'WCC', 'WOCCMCC', 'WOMCC', 'WCCMCC']\n",
    "values = [\n",
    "    'wmcc',\n",
    "    'wcc',\n",
    "    'wnoncc|w/occ/mcc',\n",
    "    'w/o mcc',\n",
    "    'wcc/mcc',\n",
    "]\n",
    "comorbidity_dict = {keys[i]: values[i] for i in range(len(keys))}\n",
    "print(str(comorbidity_dict))"
   ]
  },
  {
   "cell_type": "code",
   "execution_count": 261,
   "metadata": {
    "ExecuteTime": {
     "end_time": "2020-04-28T16:43:43.845186Z",
     "start_time": "2020-04-28T16:43:41.687584Z"
    }
   },
   "outputs": [],
   "source": [
    "# generate binary variables for each diagnosis which will be inputs to the model as featuers\n",
    "for k, v in comorbidity_dict.items():\n",
    "    df_drg[k] = df_drg['DESCRIPTION_CL'].str.contains(v, regex=True, case=False).astype(int)\n",
    "    df_r = df_drg[['SUBJECT_ID', 'HADM_ID',\n",
    "                     k]].groupby(['SUBJECT_ID',\n",
    "                                  'HADM_ID']).agg('sum').reset_index()\n",
    "    df_r[k] = df_r[k].apply(lambda x: 1.0 if x >= 1 else 0.0)\n",
    "    master = pd.merge(master, df_r, on=['SUBJECT_ID', 'HADM_ID'], how='left')"
   ]
  },
  {
   "cell_type": "markdown",
   "metadata": {},
   "source": [
    "### Aggregate Severity and Mortality scores"
   ]
  },
  {
   "cell_type": "code",
   "execution_count": 262,
   "metadata": {
    "ExecuteTime": {
     "end_time": "2020-04-28T16:43:54.538161Z",
     "start_time": "2020-04-28T16:43:54.331158Z"
    }
   },
   "outputs": [
    {
     "name": "stdout",
     "output_type": "stream",
     "text": [
      "severity score:  count    39395.000000\n",
      "mean         2.957253\n",
      "std          0.940749\n",
      "min          0.000000\n",
      "25%          2.000000\n",
      "50%          3.000000\n",
      "75%          4.000000\n",
      "max          4.000000\n",
      "Name: DRG_SEVERITY, dtype: float64\n",
      "mortality score:  count    39395.000000\n",
      "mean         2.630613\n",
      "std          1.119987\n",
      "min          0.000000\n",
      "25%          2.000000\n",
      "50%          3.000000\n",
      "75%          4.000000\n",
      "max          4.000000\n",
      "Name: DRG_MORTALITY, dtype: float64\n"
     ]
    }
   ],
   "source": [
    "# take the max DRG_SEVERITY and MORTALITY scores and use as input featuers to model\n",
    "drg_serv_scr = df_drg[['SUBJECT_ID','HADM_ID','DRG_SEVERITY']].groupby(['SUBJECT_ID','HADM_ID']\\\n",
    "                ).agg('max').reset_index()\n",
    "drg_mor_scr = df_drg[['SUBJECT_ID','HADM_ID','DRG_MORTALITY']].groupby(['SUBJECT_ID','HADM_ID']\\\n",
    "                ).agg('max').reset_index()\n",
    "print('severity score: ', drg_serv_scr.DRG_SEVERITY.describe())\n",
    "print('mortality score: ', drg_mor_scr.DRG_MORTALITY.describe())"
   ]
  },
  {
   "cell_type": "code",
   "execution_count": 263,
   "metadata": {
    "ExecuteTime": {
     "end_time": "2020-04-28T16:43:54.652962Z",
     "start_time": "2020-04-28T16:43:54.544735Z"
    },
    "scrolled": true
   },
   "outputs": [
    {
     "name": "stdout",
     "output_type": "stream",
     "text": [
      "count    8308.000000\n",
      "mean       31.944030\n",
      "std        43.863105\n",
      "min         1.000000\n",
      "25%         3.000000\n",
      "50%         4.000000\n",
      "75%        99.000000\n",
      "max        99.000000\n",
      "Name: DRG_SEVERITY, dtype: float64\n",
      "count    8308.000000\n",
      "mean       31.724964\n",
      "std        44.008427\n",
      "min         1.000000\n",
      "25%         3.000000\n",
      "50%         4.000000\n",
      "75%        99.000000\n",
      "max        99.000000\n",
      "Name: DRG_MORTALITY, dtype: float64\n"
     ]
    }
   ],
   "source": [
    "master = pd.merge(master,drg_serv_scr,on=['SUBJECT_ID', 'HADM_ID'],how='left')\n",
    "master = pd.merge(master,drg_mor_scr,on=['SUBJECT_ID', 'HADM_ID'],how='left')\n",
    "master['DRG_SEVERITY'].fillna(99,inplace=True)\n",
    "master['DRG_MORTALITY'].fillna(99,inplace=True)\n",
    "print(master['DRG_SEVERITY'].describe())\n",
    "print(master['DRG_MORTALITY'].describe())"
   ]
  },
  {
   "cell_type": "code",
   "execution_count": 264,
   "metadata": {},
   "outputs": [
    {
     "ename": "KeyError",
     "evalue": "\"['DRG_SEVERITY_x' 'DRG_SEVERITY_y' 'DRG_MORTALITY_x' 'DRG_MORTALITY_y'] not found in axis\"",
     "output_type": "error",
     "traceback": [
      "\u001b[0;31m---------------------------------------------------------------------------\u001b[0m",
      "\u001b[0;31mKeyError\u001b[0m                                  Traceback (most recent call last)",
      "\u001b[0;32m<ipython-input-264-ff4162dbad29>\u001b[0m in \u001b[0;36m<module>\u001b[0;34m\u001b[0m\n\u001b[0;32m----> 1\u001b[0;31m \u001b[0mmaster\u001b[0m\u001b[0;34m.\u001b[0m\u001b[0mdrop\u001b[0m\u001b[0;34m(\u001b[0m\u001b[0;34m[\u001b[0m\u001b[0;34m'DRG_SEVERITY_x'\u001b[0m\u001b[0;34m,\u001b[0m\u001b[0;34m'DRG_SEVERITY_y'\u001b[0m\u001b[0;34m,\u001b[0m\u001b[0;34m'DRG_MORTALITY_x'\u001b[0m\u001b[0;34m,\u001b[0m\u001b[0;34m'DRG_MORTALITY_y'\u001b[0m\u001b[0;34m]\u001b[0m\u001b[0;34m,\u001b[0m\u001b[0maxis\u001b[0m\u001b[0;34m=\u001b[0m\u001b[0;36m1\u001b[0m\u001b[0;34m,\u001b[0m\u001b[0minplace\u001b[0m\u001b[0;34m=\u001b[0m\u001b[0;32mTrue\u001b[0m\u001b[0;34m)\u001b[0m\u001b[0;34m\u001b[0m\u001b[0;34m\u001b[0m\u001b[0m\n\u001b[0m",
      "\u001b[0;32m/Applications/anaconda3/lib/python3.7/site-packages/pandas/core/frame.py\u001b[0m in \u001b[0;36mdrop\u001b[0;34m(self, labels, axis, index, columns, level, inplace, errors)\u001b[0m\n\u001b[1;32m   3695\u001b[0m                                            \u001b[0mindex\u001b[0m\u001b[0;34m=\u001b[0m\u001b[0mindex\u001b[0m\u001b[0;34m,\u001b[0m \u001b[0mcolumns\u001b[0m\u001b[0;34m=\u001b[0m\u001b[0mcolumns\u001b[0m\u001b[0;34m,\u001b[0m\u001b[0;34m\u001b[0m\u001b[0;34m\u001b[0m\u001b[0m\n\u001b[1;32m   3696\u001b[0m                                            \u001b[0mlevel\u001b[0m\u001b[0;34m=\u001b[0m\u001b[0mlevel\u001b[0m\u001b[0;34m,\u001b[0m \u001b[0minplace\u001b[0m\u001b[0;34m=\u001b[0m\u001b[0minplace\u001b[0m\u001b[0;34m,\u001b[0m\u001b[0;34m\u001b[0m\u001b[0;34m\u001b[0m\u001b[0m\n\u001b[0;32m-> 3697\u001b[0;31m                                            errors=errors)\n\u001b[0m\u001b[1;32m   3698\u001b[0m \u001b[0;34m\u001b[0m\u001b[0m\n\u001b[1;32m   3699\u001b[0m     @rewrite_axis_style_signature('mapper', [('copy', True),\n",
      "\u001b[0;32m/Applications/anaconda3/lib/python3.7/site-packages/pandas/core/generic.py\u001b[0m in \u001b[0;36mdrop\u001b[0;34m(self, labels, axis, index, columns, level, inplace, errors)\u001b[0m\n\u001b[1;32m   3109\u001b[0m         \u001b[0;32mfor\u001b[0m \u001b[0maxis\u001b[0m\u001b[0;34m,\u001b[0m \u001b[0mlabels\u001b[0m \u001b[0;32min\u001b[0m \u001b[0maxes\u001b[0m\u001b[0;34m.\u001b[0m\u001b[0mitems\u001b[0m\u001b[0;34m(\u001b[0m\u001b[0;34m)\u001b[0m\u001b[0;34m:\u001b[0m\u001b[0;34m\u001b[0m\u001b[0;34m\u001b[0m\u001b[0m\n\u001b[1;32m   3110\u001b[0m             \u001b[0;32mif\u001b[0m \u001b[0mlabels\u001b[0m \u001b[0;32mis\u001b[0m \u001b[0;32mnot\u001b[0m \u001b[0;32mNone\u001b[0m\u001b[0;34m:\u001b[0m\u001b[0;34m\u001b[0m\u001b[0;34m\u001b[0m\u001b[0m\n\u001b[0;32m-> 3111\u001b[0;31m                 \u001b[0mobj\u001b[0m \u001b[0;34m=\u001b[0m \u001b[0mobj\u001b[0m\u001b[0;34m.\u001b[0m\u001b[0m_drop_axis\u001b[0m\u001b[0;34m(\u001b[0m\u001b[0mlabels\u001b[0m\u001b[0;34m,\u001b[0m \u001b[0maxis\u001b[0m\u001b[0;34m,\u001b[0m \u001b[0mlevel\u001b[0m\u001b[0;34m=\u001b[0m\u001b[0mlevel\u001b[0m\u001b[0;34m,\u001b[0m \u001b[0merrors\u001b[0m\u001b[0;34m=\u001b[0m\u001b[0merrors\u001b[0m\u001b[0;34m)\u001b[0m\u001b[0;34m\u001b[0m\u001b[0;34m\u001b[0m\u001b[0m\n\u001b[0m\u001b[1;32m   3112\u001b[0m \u001b[0;34m\u001b[0m\u001b[0m\n\u001b[1;32m   3113\u001b[0m         \u001b[0;32mif\u001b[0m \u001b[0minplace\u001b[0m\u001b[0;34m:\u001b[0m\u001b[0;34m\u001b[0m\u001b[0;34m\u001b[0m\u001b[0m\n",
      "\u001b[0;32m/Applications/anaconda3/lib/python3.7/site-packages/pandas/core/generic.py\u001b[0m in \u001b[0;36m_drop_axis\u001b[0;34m(self, labels, axis, level, errors)\u001b[0m\n\u001b[1;32m   3141\u001b[0m                 \u001b[0mnew_axis\u001b[0m \u001b[0;34m=\u001b[0m \u001b[0maxis\u001b[0m\u001b[0;34m.\u001b[0m\u001b[0mdrop\u001b[0m\u001b[0;34m(\u001b[0m\u001b[0mlabels\u001b[0m\u001b[0;34m,\u001b[0m \u001b[0mlevel\u001b[0m\u001b[0;34m=\u001b[0m\u001b[0mlevel\u001b[0m\u001b[0;34m,\u001b[0m \u001b[0merrors\u001b[0m\u001b[0;34m=\u001b[0m\u001b[0merrors\u001b[0m\u001b[0;34m)\u001b[0m\u001b[0;34m\u001b[0m\u001b[0;34m\u001b[0m\u001b[0m\n\u001b[1;32m   3142\u001b[0m             \u001b[0;32melse\u001b[0m\u001b[0;34m:\u001b[0m\u001b[0;34m\u001b[0m\u001b[0;34m\u001b[0m\u001b[0m\n\u001b[0;32m-> 3143\u001b[0;31m                 \u001b[0mnew_axis\u001b[0m \u001b[0;34m=\u001b[0m \u001b[0maxis\u001b[0m\u001b[0;34m.\u001b[0m\u001b[0mdrop\u001b[0m\u001b[0;34m(\u001b[0m\u001b[0mlabels\u001b[0m\u001b[0;34m,\u001b[0m \u001b[0merrors\u001b[0m\u001b[0;34m=\u001b[0m\u001b[0merrors\u001b[0m\u001b[0;34m)\u001b[0m\u001b[0;34m\u001b[0m\u001b[0;34m\u001b[0m\u001b[0m\n\u001b[0m\u001b[1;32m   3144\u001b[0m             \u001b[0mresult\u001b[0m \u001b[0;34m=\u001b[0m \u001b[0mself\u001b[0m\u001b[0;34m.\u001b[0m\u001b[0mreindex\u001b[0m\u001b[0;34m(\u001b[0m\u001b[0;34m**\u001b[0m\u001b[0;34m{\u001b[0m\u001b[0maxis_name\u001b[0m\u001b[0;34m:\u001b[0m \u001b[0mnew_axis\u001b[0m\u001b[0;34m}\u001b[0m\u001b[0;34m)\u001b[0m\u001b[0;34m\u001b[0m\u001b[0;34m\u001b[0m\u001b[0m\n\u001b[1;32m   3145\u001b[0m \u001b[0;34m\u001b[0m\u001b[0m\n",
      "\u001b[0;32m/Applications/anaconda3/lib/python3.7/site-packages/pandas/core/indexes/base.py\u001b[0m in \u001b[0;36mdrop\u001b[0;34m(self, labels, errors)\u001b[0m\n\u001b[1;32m   4402\u001b[0m             \u001b[0;32mif\u001b[0m \u001b[0merrors\u001b[0m \u001b[0;34m!=\u001b[0m \u001b[0;34m'ignore'\u001b[0m\u001b[0;34m:\u001b[0m\u001b[0;34m\u001b[0m\u001b[0;34m\u001b[0m\u001b[0m\n\u001b[1;32m   4403\u001b[0m                 raise KeyError(\n\u001b[0;32m-> 4404\u001b[0;31m                     '{} not found in axis'.format(labels[mask]))\n\u001b[0m\u001b[1;32m   4405\u001b[0m             \u001b[0mindexer\u001b[0m \u001b[0;34m=\u001b[0m \u001b[0mindexer\u001b[0m\u001b[0;34m[\u001b[0m\u001b[0;34m~\u001b[0m\u001b[0mmask\u001b[0m\u001b[0;34m]\u001b[0m\u001b[0;34m\u001b[0m\u001b[0;34m\u001b[0m\u001b[0m\n\u001b[1;32m   4406\u001b[0m         \u001b[0;32mreturn\u001b[0m \u001b[0mself\u001b[0m\u001b[0;34m.\u001b[0m\u001b[0mdelete\u001b[0m\u001b[0;34m(\u001b[0m\u001b[0mindexer\u001b[0m\u001b[0;34m)\u001b[0m\u001b[0;34m\u001b[0m\u001b[0;34m\u001b[0m\u001b[0m\n",
      "\u001b[0;31mKeyError\u001b[0m: \"['DRG_SEVERITY_x' 'DRG_SEVERITY_y' 'DRG_MORTALITY_x' 'DRG_MORTALITY_y'] not found in axis\""
     ]
    }
   ],
   "source": [
    "master.drop(['DRG_SEVERITY_x','DRG_SEVERITY_y','DRG_MORTALITY_x','DRG_MORTALITY_y'],axis=1,inplace=True)"
   ]
  },
  {
   "cell_type": "markdown",
   "metadata": {},
   "source": [
    "### Discharge Notes "
   ]
  },
  {
   "cell_type": "code",
   "execution_count": 265,
   "metadata": {
    "ExecuteTime": {
     "end_time": "2020-04-28T16:43:55.392872Z",
     "start_time": "2020-04-28T16:43:54.658679Z"
    }
   },
   "outputs": [
    {
     "data": {
      "text/plain": [
       "(59652, 11)"
      ]
     },
     "execution_count": 265,
     "metadata": {},
     "output_type": "execute_result"
    }
   ],
   "source": [
    "# filter for discharge summary only\n",
    "df_notes_dis_sum = df_notes.loc[df_notes.CATEGORY == 'Discharge summary']\n",
    "df_notes_dis_sum.shape"
   ]
  },
  {
   "cell_type": "code",
   "execution_count": 266,
   "metadata": {
    "ExecuteTime": {
     "end_time": "2020-04-28T16:43:55.686262Z",
     "start_time": "2020-04-28T16:43:55.407854Z"
    }
   },
   "outputs": [],
   "source": [
    "# some admissions have multiple discharge notes, I will only take the last one and assume that is the most recent one\n",
    "df_notes_dis_sum_last = (df_notes_dis_sum.groupby(\n",
    "    ['SUBJECT_ID', 'HADM_ID']).nth(-1)).reset_index()\n",
    "assert df_notes_dis_sum_last.duplicated(['HADM_ID']).sum() == 0, 'Multiple discharge summaries per admission'"
   ]
  },
  {
   "cell_type": "code",
   "execution_count": 267,
   "metadata": {
    "ExecuteTime": {
     "end_time": "2020-04-28T16:43:56.029098Z",
     "start_time": "2020-04-28T16:43:55.697755Z"
    }
   },
   "outputs": [],
   "source": [
    "# 204 admissions have missing notes, 43 belongs to 'READMISSION_30DAYS'==1\n",
    "# replace missing TEXT with a space \n",
    "master = pd.merge(master,\n",
    "                        df_notes_dis_sum_last[['SUBJECT_ID','HADM_ID','TEXT']], \n",
    "                        on = ['SUBJECT_ID','HADM_ID'],\n",
    "                        how = 'left')\n",
    "assert len(master) == len(master), 'Number of rows increased'\n",
    "master['TEXT'].replace(np.nan, ' ', inplace=True)"
   ]
  },
  {
   "cell_type": "code",
   "execution_count": 268,
   "metadata": {
    "ExecuteTime": {
     "end_time": "2020-04-28T16:44:03.107954Z",
     "start_time": "2020-04-28T16:43:56.043059Z"
    }
   },
   "outputs": [
    {
     "data": {
      "text/plain": [
       "0                                                     \n",
       "1    admission date   [**2131 4 30**]              ...\n",
       "2    admission date   [**2173 12 15**]             ...\n",
       "3    admission date   [**2162 3 2**]              d...\n",
       "4    admission date   [**2176 2 25**]              ...\n",
       "5    admission date   [**2189 1 28**]              ...\n",
       "6                                                     \n",
       "7    admission date   [**2121 11 30**]             ...\n",
       "8    admission date   [**2137 11 4**]              ...\n",
       "9    admission date   [**2138 4 16**]              ...\n",
       "Name: TEXT_CL, dtype: object"
      ]
     },
     "execution_count": 268,
     "metadata": {},
     "output_type": "execute_result"
    }
   ],
   "source": [
    "# preprocess and tokenize the text\n",
    "preprocess_text(master,'TEXT')"
   ]
  },
  {
   "cell_type": "code",
   "execution_count": null,
   "metadata": {},
   "outputs": [],
   "source": [
    "#master.loc[master['TEXT_CL'].str.contains('cc'), ['TEXT', 'TEXT_CL']].iloc[1].iloc[1]"
   ]
  },
  {
   "cell_type": "markdown",
   "metadata": {},
   "source": [
    "## Feature Scaling/Transformation"
   ]
  },
  {
   "cell_type": "markdown",
   "metadata": {},
   "source": [
    "### Quartile Binning, Log Transformation and Boxcox Log Transformation"
   ]
  },
  {
   "cell_type": "markdown",
   "metadata": {},
   "source": [
    "#### Quantile binning and Boxcox transforming for Age"
   ]
  },
  {
   "cell_type": "markdown",
   "metadata": {},
   "source": [
    "Box Cox Log Transformation (AGE)"
   ]
  },
  {
   "cell_type": "code",
   "execution_count": 269,
   "metadata": {
    "ExecuteTime": {
     "end_time": "2020-04-28T16:44:03.715510Z",
     "start_time": "2020-04-28T16:44:03.160728Z"
    },
    "scrolled": false
   },
   "outputs": [
    {
     "data": {
      "text/html": [
       "<div>\n",
       "<style scoped>\n",
       "    .dataframe tbody tr th:only-of-type {\n",
       "        vertical-align: middle;\n",
       "    }\n",
       "\n",
       "    .dataframe tbody tr th {\n",
       "        vertical-align: top;\n",
       "    }\n",
       "\n",
       "    .dataframe thead th {\n",
       "        text-align: right;\n",
       "    }\n",
       "</style>\n",
       "<table border=\"1\" class=\"dataframe\">\n",
       "  <thead>\n",
       "    <tr style=\"text-align: right;\">\n",
       "      <th></th>\n",
       "      <th>SUBJECT_ID</th>\n",
       "      <th>HADM_ID</th>\n",
       "      <th>AGE</th>\n",
       "      <th>AGE_boxcox_lambda_opt</th>\n",
       "    </tr>\n",
       "  </thead>\n",
       "  <tbody>\n",
       "    <tr>\n",
       "      <th>4</th>\n",
       "      <td>94</td>\n",
       "      <td>183686</td>\n",
       "      <td>74.433130</td>\n",
       "      <td>273.400892</td>\n",
       "    </tr>\n",
       "    <tr>\n",
       "      <th>5</th>\n",
       "      <td>105</td>\n",
       "      <td>161160</td>\n",
       "      <td>35.342112</td>\n",
       "      <td>97.593238</td>\n",
       "    </tr>\n",
       "    <tr>\n",
       "      <th>6</th>\n",
       "      <td>107</td>\n",
       "      <td>191941</td>\n",
       "      <td>62.884974</td>\n",
       "      <td>216.620968</td>\n",
       "    </tr>\n",
       "    <tr>\n",
       "      <th>7</th>\n",
       "      <td>107</td>\n",
       "      <td>182383</td>\n",
       "      <td>69.661351</td>\n",
       "      <td>249.503873</td>\n",
       "    </tr>\n",
       "    <tr>\n",
       "      <th>8</th>\n",
       "      <td>109</td>\n",
       "      <td>183350</td>\n",
       "      <td>20.245905</td>\n",
       "      <td>44.935202</td>\n",
       "    </tr>\n",
       "  </tbody>\n",
       "</table>\n",
       "</div>"
      ],
      "text/plain": [
       "   SUBJECT_ID  HADM_ID        AGE  AGE_boxcox_lambda_opt\n",
       "4          94   183686  74.433130             273.400892\n",
       "5         105   161160  35.342112              97.593238\n",
       "6         107   191941  62.884974             216.620968\n",
       "7         107   182383  69.661351             249.503873\n",
       "8         109   183350  20.245905              44.935202"
      ]
     },
     "execution_count": 269,
     "metadata": {},
     "output_type": "execute_result"
    },
    {
     "data": {
      "image/png": "[encoded data removed]",
      "text/plain": [
       "<Figure size 432x288 with 1 Axes>"
      ]
     },
     "metadata": {
      "needs_background": "light"
     },
     "output_type": "display_data"
    }
   ],
   "source": [
    "create_boxcox(dataset=master, column='AGE', title='Patient\\'s Age (Box–Cox transform)')\n",
    "\n",
    "master[['SUBJECT_ID', 'HADM_ID','AGE', 'AGE_boxcox_lambda_opt']].iloc[4:9]"
   ]
  },
  {
   "cell_type": "markdown",
   "metadata": {},
   "source": [
    "Since the age distribution is approximately normal, we might not need to do log transformation. However, I am going to include the binned-version and log-transformed-version into the model separately to see which one yields better model performance."
   ]
  },
  {
   "cell_type": "markdown",
   "metadata": {},
   "source": [
    "#### Log transforming for Number of Presriptions"
   ]
  },
  {
   "cell_type": "markdown",
   "metadata": {},
   "source": [
    "The number of prescription issued is highly skewed. Therefore, log transformation is needed to correct this issue. Binning would not help much in this case. Boxcox cannot be used because it does not take zero as input."
   ]
  },
  {
   "cell_type": "code",
   "execution_count": 270,
   "metadata": {
    "ExecuteTime": {
     "end_time": "2020-04-28T16:44:04.099276Z",
     "start_time": "2020-04-28T16:44:03.720903Z"
    },
    "scrolled": true
   },
   "outputs": [
    {
     "data": {
      "image/png": "[encoded data removed]",
      "text/plain": [
       "<Figure size 432x288 with 1 Axes>"
      ]
     },
     "metadata": {
      "needs_background": "light"
     },
     "output_type": "display_data"
    }
   ],
   "source": [
    "create_log_transform(dataset=master, column='NUM_PRESCRIPTION', title='Number of Prescriptions after Log Transform')"
   ]
  },
  {
   "cell_type": "code",
   "execution_count": 271,
   "metadata": {
    "ExecuteTime": {
     "end_time": "2020-04-28T16:44:04.134186Z",
     "start_time": "2020-04-28T16:44:04.105041Z"
    },
    "scrolled": false
   },
   "outputs": [
    {
     "data": {
      "text/html": [
       "<div>\n",
       "<style scoped>\n",
       "    .dataframe tbody tr th:only-of-type {\n",
       "        vertical-align: middle;\n",
       "    }\n",
       "\n",
       "    .dataframe tbody tr th {\n",
       "        vertical-align: top;\n",
       "    }\n",
       "\n",
       "    .dataframe thead th {\n",
       "        text-align: right;\n",
       "    }\n",
       "</style>\n",
       "<table border=\"1\" class=\"dataframe\">\n",
       "  <thead>\n",
       "    <tr style=\"text-align: right;\">\n",
       "      <th></th>\n",
       "      <th>SUBJECT_ID</th>\n",
       "      <th>HADM_ID</th>\n",
       "      <th>NUM_PRESCRIPTION</th>\n",
       "      <th>NUM_PRESCRIPTION_LOG</th>\n",
       "    </tr>\n",
       "  </thead>\n",
       "  <tbody>\n",
       "    <tr>\n",
       "      <th>4</th>\n",
       "      <td>94</td>\n",
       "      <td>183686</td>\n",
       "      <td>55.0</td>\n",
       "      <td>4.025352</td>\n",
       "    </tr>\n",
       "    <tr>\n",
       "      <th>5</th>\n",
       "      <td>105</td>\n",
       "      <td>161160</td>\n",
       "      <td>40.0</td>\n",
       "      <td>3.713572</td>\n",
       "    </tr>\n",
       "    <tr>\n",
       "      <th>6</th>\n",
       "      <td>107</td>\n",
       "      <td>191941</td>\n",
       "      <td>14.0</td>\n",
       "      <td>2.708050</td>\n",
       "    </tr>\n",
       "    <tr>\n",
       "      <th>7</th>\n",
       "      <td>107</td>\n",
       "      <td>182383</td>\n",
       "      <td>46.0</td>\n",
       "      <td>3.850148</td>\n",
       "    </tr>\n",
       "    <tr>\n",
       "      <th>8</th>\n",
       "      <td>109</td>\n",
       "      <td>183350</td>\n",
       "      <td>162.0</td>\n",
       "      <td>5.093750</td>\n",
       "    </tr>\n",
       "    <tr>\n",
       "      <th>9</th>\n",
       "      <td>109</td>\n",
       "      <td>128755</td>\n",
       "      <td>38.0</td>\n",
       "      <td>3.663562</td>\n",
       "    </tr>\n",
       "  </tbody>\n",
       "</table>\n",
       "</div>"
      ],
      "text/plain": [
       "   SUBJECT_ID  HADM_ID  NUM_PRESCRIPTION  NUM_PRESCRIPTION_LOG\n",
       "4          94   183686              55.0              4.025352\n",
       "5         105   161160              40.0              3.713572\n",
       "6         107   191941              14.0              2.708050\n",
       "7         107   182383              46.0              3.850148\n",
       "8         109   183350             162.0              5.093750\n",
       "9         109   128755              38.0              3.663562"
      ]
     },
     "execution_count": 271,
     "metadata": {},
     "output_type": "execute_result"
    }
   ],
   "source": [
    "master[['SUBJECT_ID','HADM_ID','NUM_PRESCRIPTION', 'NUM_PRESCRIPTION_LOG']].iloc[4:10]"
   ]
  },
  {
   "cell_type": "markdown",
   "metadata": {},
   "source": [
    "#### Log transformation for ICU LOS"
   ]
  },
  {
   "cell_type": "code",
   "execution_count": 272,
   "metadata": {
    "ExecuteTime": {
     "end_time": "2020-04-28T16:44:04.542693Z",
     "start_time": "2020-04-28T16:44:04.139435Z"
    },
    "scrolled": true
   },
   "outputs": [
    {
     "data": {
      "image/png": "[encoded data removed]",
      "text/plain": [
       "<Figure size 432x288 with 1 Axes>"
      ]
     },
     "metadata": {
      "needs_background": "light"
     },
     "output_type": "display_data"
    }
   ],
   "source": [
    "# perform log transformation for feature ICU LOS\n",
    "create_log_transform(dataset=master, column='LOS', title='ICU LOS after Log Transform')"
   ]
  },
  {
   "cell_type": "code",
   "execution_count": 273,
   "metadata": {
    "ExecuteTime": {
     "end_time": "2020-04-28T16:44:05.165633Z",
     "start_time": "2020-04-28T16:44:04.548764Z"
    },
    "scrolled": true
   },
   "outputs": [
    {
     "data": {
      "image/png": "[encoded data removed]",
      "text/plain": [
       "<Figure size 432x288 with 1 Axes>"
      ]
     },
     "metadata": {
      "needs_background": "light"
     },
     "output_type": "display_data"
    }
   ],
   "source": [
    "# perform boxcox log transformation for feature ICU LOS\n",
    "create_boxcox(dataset=master, column='LOS', title='ICU LOS Histogram with Quantiles')"
   ]
  },
  {
   "cell_type": "markdown",
   "metadata": {},
   "source": [
    "#### Log and Boxcox transformation for Hospital LOS (HLOS)"
   ]
  },
  {
   "cell_type": "code",
   "execution_count": 274,
   "metadata": {
    "ExecuteTime": {
     "end_time": "2020-04-28T16:44:05.786868Z",
     "start_time": "2020-04-28T16:44:05.178411Z"
    },
    "scrolled": true
   },
   "outputs": [
    {
     "data": {
      "image/png": "[encoded data removed]",
      "text/plain": [
       "<Figure size 432x288 with 1 Axes>"
      ]
     },
     "metadata": {
      "needs_background": "light"
     },
     "output_type": "display_data"
    }
   ],
   "source": [
    "# perform log transformation for feature HLOS\n",
    "create_log_transform(dataset=master, column='HLOS_CL', title='Hospital LOS after Log Transform')"
   ]
  },
  {
   "cell_type": "code",
   "execution_count": 275,
   "metadata": {
    "ExecuteTime": {
     "end_time": "2020-04-28T16:44:06.178985Z",
     "start_time": "2020-04-28T16:44:05.791890Z"
    },
    "scrolled": false
   },
   "outputs": [
    {
     "data": {
      "image/png": "[encoded data removed]",
      "text/plain": [
       "<Figure size 432x288 with 1 Axes>"
      ]
     },
     "metadata": {
      "needs_background": "light"
     },
     "output_type": "display_data"
    }
   ],
   "source": [
    "# perform boxcox log transformation for feature HLOS\n",
    "create_boxcox(dataset=master, column='HLOS_CL', title='Hospital LOS Histogram (Box–Cox transform)')"
   ]
  },
  {
   "cell_type": "markdown",
   "metadata": {},
   "source": [
    "#### Log and Boxcox transformation for LOS_RATIO"
   ]
  },
  {
   "cell_type": "code",
   "execution_count": 276,
   "metadata": {
    "ExecuteTime": {
     "end_time": "2020-04-28T16:44:06.620935Z",
     "start_time": "2020-04-28T16:44:06.186087Z"
    },
    "scrolled": true
   },
   "outputs": [
    {
     "data": {
      "image/png": "[encoded data removed]",
      "text/plain": [
       "<Figure size 432x288 with 1 Axes>"
      ]
     },
     "metadata": {
      "needs_background": "light"
     },
     "output_type": "display_data"
    }
   ],
   "source": [
    "create_log_transform(dataset=master, column='LOS_RATIO', title='Hospital LOS after Log Transform')"
   ]
  },
  {
   "cell_type": "code",
   "execution_count": 277,
   "metadata": {
    "ExecuteTime": {
     "end_time": "2020-04-28T16:44:07.357979Z",
     "start_time": "2020-04-28T16:44:06.644020Z"
    },
    "scrolled": false
   },
   "outputs": [
    {
     "data": {
      "image/png": "[encoded data removed]",
      "text/plain": [
       "<Figure size 432x288 with 1 Axes>"
      ]
     },
     "metadata": {
      "needs_background": "light"
     },
     "output_type": "display_data"
    }
   ],
   "source": [
    "# perform boxcox log transformation for feature ICU LOS\n",
    "create_boxcox(dataset=master, column='LOS_RATIO', title='Hospital LOS Histogram with Quantiles')"
   ]
  },
  {
   "cell_type": "markdown",
   "metadata": {},
   "source": [
    "## Export master dataset as .csv file"
   ]
  },
  {
   "cell_type": "code",
   "execution_count": 278,
   "metadata": {
    "ExecuteTime": {
     "end_time": "2020-04-28T16:44:07.405852Z",
     "start_time": "2020-04-28T16:44:07.371817Z"
    }
   },
   "outputs": [],
   "source": [
    "# drop unnecessary columns\n",
    "master.drop(['ADMITTIME', 'DISCHTIME', 'DEATHTIME', 'NEXT_ADMITTIME', 'ETHNICITY',\n",
    "             'DIAGNOSIS', 'HOSPITAL_EXPIRE_FLAG', 'DOB', 'DAYS_NEXT_ADMIT', 'HLOS'], axis=1, inplace=True)\n",
    "# replace missing marital status with 'unknown'\n",
    "master['MARITAL_STATUS'].fillna('unknown',inplace = True)\n",
    "# replace nan in comborbidity variables with 0's\n",
    "for col in master[['WMCC', 'WCC', 'WOCCMCC', 'WOMCC','WCCMCC']]:\n",
    "    master[col].replace({np.nan: 0}, inplace=True)"
   ]
  },
  {
   "cell_type": "code",
   "execution_count": 279,
   "metadata": {
    "ExecuteTime": {
     "end_time": "2020-04-28T16:44:07.445829Z",
     "start_time": "2020-04-28T16:44:07.409650Z"
    }
   },
   "outputs": [
    {
     "name": "stdout",
     "output_type": "stream",
     "text": [
      "SUBJECT_ID                     0\n",
      "HADM_ID                        0\n",
      "READMISSION_30DAYS             0\n",
      "DISCHARGE_LOCATION             0\n",
      "INSURANCE                      0\n",
      "MARITAL_STATUS                 0\n",
      "GENDER                         0\n",
      "AGE                            0\n",
      "ETHNICITY_GRP                  0\n",
      "CURR_SERVICE                   0\n",
      "NUM_PRESCRIPTION               0\n",
      "LOS                            0\n",
      "HLOS_CL                        0\n",
      "LOS_RATIO                      0\n",
      "KD                             0\n",
      "HP                             0\n",
      "PUL                            0\n",
      "UT                             0\n",
      "HIV                            0\n",
      "DB                             0\n",
      "MBD                            0\n",
      "TB                             0\n",
      "GA                             0\n",
      "HM                             0\n",
      "HEP                            0\n",
      "HO                             0\n",
      "FR                             0\n",
      "TX                             0\n",
      "LA                             0\n",
      "AF                             0\n",
      "CB                             0\n",
      "PNE                            0\n",
      "HF                             0\n",
      "SP                             0\n",
      "WMCC                           0\n",
      "WCC                            0\n",
      "WOCCMCC                        0\n",
      "WOMCC                          0\n",
      "WCCMCC                         0\n",
      "DRG_SEVERITY                   0\n",
      "DRG_MORTALITY                  0\n",
      "TEXT                           0\n",
      "TEXT_CL                        0\n",
      "AGE_boxcox_lambda_opt          0\n",
      "NUM_PRESCRIPTION_LOG           0\n",
      "LOS_LOG                        0\n",
      "LOS_boxcox_lambda_opt          0\n",
      "HLOS_CL_LOG                    0\n",
      "HLOS_CL_boxcox_lambda_opt      0\n",
      "LOS_RATIO_LOG                  0\n",
      "LOS_RATIO_boxcox_lambda_opt    0\n",
      "dtype: int64\n"
     ]
    }
   ],
   "source": [
    "# check for missing values\n",
    "count_nan_in_df = master.isnull().sum()\n",
    "print (count_nan_in_df)"
   ]
  },
  {
   "cell_type": "code",
   "execution_count": 280,
   "metadata": {
    "ExecuteTime": {
     "end_time": "2020-04-28T16:44:17.735579Z",
     "start_time": "2020-04-28T16:44:07.455763Z"
    }
   },
   "outputs": [],
   "source": [
    "# output master dataset as .csv file\n",
    "master.to_csv(r'../data/master.csv')"
   ]
  },
  {
   "cell_type": "code",
   "execution_count": 281,
   "metadata": {
    "ExecuteTime": {
     "end_time": "2020-04-28T16:44:17.754309Z",
     "start_time": "2020-04-28T16:44:17.739104Z"
    }
   },
   "outputs": [
    {
     "data": {
      "text/plain": [
       "Index(['SUBJECT_ID', 'HADM_ID', 'READMISSION_30DAYS', 'DISCHARGE_LOCATION',\n",
       "       'INSURANCE', 'MARITAL_STATUS', 'GENDER', 'AGE', 'ETHNICITY_GRP',\n",
       "       'CURR_SERVICE', 'NUM_PRESCRIPTION', 'LOS', 'HLOS_CL', 'LOS_RATIO', 'KD',\n",
       "       'HP', 'PUL', 'UT', 'HIV', 'DB', 'MBD', 'TB', 'GA', 'HM', 'HEP', 'HO',\n",
       "       'FR', 'TX', 'LA', 'AF', 'CB', 'PNE', 'HF', 'SP', 'WMCC', 'WCC',\n",
       "       'WOCCMCC', 'WOMCC', 'WCCMCC', 'DRG_SEVERITY', 'DRG_MORTALITY', 'TEXT',\n",
       "       'TEXT_CL', 'AGE_boxcox_lambda_opt', 'NUM_PRESCRIPTION_LOG', 'LOS_LOG',\n",
       "       'LOS_boxcox_lambda_opt', 'HLOS_CL_LOG', 'HLOS_CL_boxcox_lambda_opt',\n",
       "       'LOS_RATIO_LOG', 'LOS_RATIO_boxcox_lambda_opt'],\n",
       "      dtype='object')"
      ]
     },
     "execution_count": 281,
     "metadata": {},
     "output_type": "execute_result"
    }
   ],
   "source": [
    "master.columns"
   ]
  },
  {
   "cell_type": "code",
   "execution_count": null,
   "metadata": {
    "ExecuteTime": {
     "end_time": "2020-04-28T16:44:29.914966Z",
     "start_time": "2020-04-28T16:44:17.760381Z"
    }
   },
   "outputs": [],
   "source": [
    "# clean up at the end by deleting all variables cached in memory\n",
    "my_variables = list(set(dir()) - my_variables)\n",
    "get_ipython().magic('%reset_selective -f [{}]'.format(','.join(my_variables)))"
   ]
  }
 ],
 "metadata": {
  "kernelspec": {
   "display_name": "Python 3",
   "language": "python",
   "name": "python3"
  },
  "language_info": {
   "codemirror_mode": {
    "name": "ipython",
    "version": 3
   },
   "file_extension": ".py",
   "mimetype": "text/x-python",
   "name": "python",
   "nbconvert_exporter": "python",
   "pygments_lexer": "ipython3",
   "version": "3.7.1"
  },
  "toc": {
   "base_numbering": 1,
   "nav_menu": {},
   "number_sections": true,
   "sideBar": true,
   "skip_h1_title": false,
   "title_cell": "Table of Contents",
   "title_sidebar": "Contents",
   "toc_cell": false,
   "toc_position": {
    "height": "calc(100% - 180px)",
    "left": "10px",
    "top": "150px",
    "width": "219px"
   },
   "toc_section_display": true,
   "toc_window_display": true
  },
  "varInspector": {
   "cols": {
    "lenName": 16,
    "lenType": 16,
    "lenVar": 40
   },
   "kernels_config": {
    "python": {
     "delete_cmd_postfix": "",
     "delete_cmd_prefix": "del ",
     "library": "var_list.py",
     "varRefreshCmd": "print(var_dic_list())"
    },
    "r": {
     "delete_cmd_postfix": ") ",
     "delete_cmd_prefix": "rm(",
     "library": "var_list.r",
     "varRefreshCmd": "cat(var_dic_list()) "
    }
   },
   "position": {
    "height": "530px",
    "left": "624px",
    "right": "20px",
    "top": "122px",
    "width": "618px"
   },
   "types_to_exclude": [
    "module",
    "function",
    "builtin_function_or_method",
    "instance",
    "_Feature"
   ],
   "window_display": false
  }
 },
 "nbformat": 4,
 "nbformat_minor": 2
}