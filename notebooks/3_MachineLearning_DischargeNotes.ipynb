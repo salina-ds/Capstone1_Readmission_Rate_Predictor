{
 "cells": [
  {
   "cell_type": "markdown",
   "metadata": {},
   "source": [
    "# Machine Learning"
   ]
  },
  {
   "cell_type": "markdown",
   "metadata": {},
   "source": [
    "## Import Libraries"
   ]
  },
  {
   "cell_type": "code",
   "execution_count": 2,
   "metadata": {
    "ExecuteTime": {
     "start_time": "2020-04-26T22:41:12.430Z"
    }
   },
   "outputs": [
    {
     "name": "stdout",
     "output_type": "stream",
     "text": [
      "Stored 'my_stop_words' (list)\n"
     ]
    }
   ],
   "source": [
    "# import libraries\n",
    "import pandas as pd\n",
    "import numpy as np\n",
    "import matplotlib.pyplot as plt\n",
    "# import color maps\n",
    "import matplotlib.cm as cm\n",
    "# import tokenizer\n",
    "#from nltk import word_tokenize\n",
    "import string\n",
    "# import model related libraries\n",
    "from sklearn.model_selection import train_test_split, GridSearchCV\n",
    "from sklearn.linear_model import LogisticRegression\n",
    "from sklearn.ensemble import RandomForestClassifier, ExtraTreesClassifier, _forest\n",
    "from sklearn.naive_bayes import MultinomialNB, GaussianNB\n",
    "from xgboost import XGBClassifier\n",
    "from sklearn.metrics import roc_auc_score, fbeta_score, classification_report, silhouette_samples, silhouette_score\n",
    "from sklearn.model_selection import learning_curve\n",
    "from sklearn_pandas import DataFrameMapper, cross_val_score\n",
    "from sklearn.preprocessing import LabelEncoder, KBinsDiscretizer\n",
    "from sklearn.feature_extraction.text import TfidfVectorizer\n",
    "from sklearn.decomposition import PCA\n",
    "from sklearn.cluster import KMeans\n",
    "# import a function that convert items into a callable object\n",
    "from operator import itemgetter\n",
    "# import warnings filter\n",
    "from warnings import simplefilter\n",
    "# ignore all future warnings\n",
    "simplefilter(action='ignore', category=FutureWarning)\n",
    "\n",
    "pd.options.display.max_colwidth = 200\n",
    "%matplotlib inline\n",
    "%run functions.ipynb # import my functions from functions notebook"
   ]
  },
  {
   "cell_type": "markdown",
   "metadata": {},
   "source": [
    "## Load Data"
   ]
  },
  {
   "cell_type": "code",
   "execution_count": 2,
   "metadata": {
    "ExecuteTime": {
     "start_time": "2020-04-26T22:41:13.206Z"
    }
   },
   "outputs": [
    {
     "name": "stderr",
     "output_type": "stream",
     "text": [
      "/Applications/anaconda3/lib/python3.7/site-packages/IPython/core/interactiveshell.py:3020: DtypeWarning: Columns (4,5) have mixed types. Specify dtype option on import or set low_memory=False.\n",
      "  interactivity=interactivity, compiler=compiler, result=result)\n"
     ]
    }
   ],
   "source": [
    "# read in doctor's discharge notes from NOTEEVENTS.csv\n",
    "df_notes = pd.read_csv(\"../mimic-iii-clinical-database-1.4/NOTEEVENTS.csv\")"
   ]
  },
  {
   "cell_type": "code",
   "execution_count": 3,
   "metadata": {
    "ExecuteTime": {
     "start_time": "2020-04-26T22:41:13.409Z"
    }
   },
   "outputs": [
    {
     "data": {
      "text/plain": [
       "Index(['SUBJECT_ID', 'HADM_ID', 'READMISSION_30DAYS', 'DISCHARGE_LOCATION',\n",
       "       'INSURANCE', 'MARITAL_STATUS', 'GENDER', 'AGE', 'ETHNICITY_GRP',\n",
       "       'CURR_SERVICE', 'NUM_PRESCRIPTION', 'LOS', 'HLOS_CL', 'LOS_RATIO', 'KD',\n",
       "       'HP', 'PUL', 'UT', 'HIV', 'DB', 'MBD', 'TB', 'GA', 'HM', 'HEP', 'HO',\n",
       "       'FR', 'TX', 'LA', 'AF', 'CB', 'PNE', 'HF', 'SP', 'WMCC', 'WCC',\n",
       "       'WOCCMCC', 'WOMCC', 'WCCMCC', 'DRG_SEVERITY', 'DRG_MORTALITY', 'TEXT',\n",
       "       'TEXT_CL', 'AGE_boxcox_lambda_opt', 'NUM_PRESCRIPTION_LOG', 'LOS_LOG',\n",
       "       'LOS_boxcox_lambda_opt', 'HLOS_CL_LOG', 'HLOS_CL_boxcox_lambda_opt',\n",
       "       'LOS_RATIO_LOG', 'LOS_RATIO_boxcox_lambda_opt'],\n",
       "      dtype='object')"
      ]
     },
     "execution_count": 3,
     "metadata": {},
     "output_type": "execute_result"
    }
   ],
   "source": [
    "# load master dataframe\n",
    "master = pd.read_csv('../Capstone 1/master.csv')\n",
    "master.drop('Unnamed: 0',axis=1,inplace=True)\n",
    "master.columns"
   ]
  },
  {
   "cell_type": "markdown",
   "metadata": {},
   "source": [
    "Since this project is not only NLP focused, I will only adopt simple NLP techniques that are appropriate for this project."
   ]
  },
  {
   "cell_type": "code",
   "execution_count": 45,
   "metadata": {},
   "outputs": [],
   "source": [
    "x_train, x_test, y_train, y_test = train_test_split(master['TEXT_CL'],master.READMISSION_30DAYS,\n",
    "                                        test_size=0.3,train_size=0.7, random_state = 0)"
   ]
  },
  {
   "cell_type": "code",
   "execution_count": 79,
   "metadata": {},
   "outputs": [
    {
     "name": "stdout",
     "output_type": "stream",
     "text": [
      "Fitting 5 folds for each of 96 candidates, totalling 480 fits\n"
     ]
    },
    {
     "name": "stderr",
     "output_type": "stream",
     "text": [
      "[Parallel(n_jobs=-1)]: Using backend LokyBackend with 4 concurrent workers.\n",
      "[Parallel(n_jobs=-1)]: Done  42 tasks      | elapsed:  4.0min\n",
      "[Parallel(n_jobs=-1)]: Done 192 tasks      | elapsed: 22.5min\n",
      "/Applications/anaconda3/lib/python3.7/site-packages/joblib/externals/loky/process_executor.py:706: UserWarning: A worker stopped while some jobs were given to the executor. This can be caused by a too short worker timeout or by a memory leak.\n",
      "  \"timeout or by a memory leak.\", UserWarning\n",
      "[Parallel(n_jobs=-1)]: Done 442 tasks      | elapsed: 48.2min\n",
      "[Parallel(n_jobs=-1)]: Done 480 out of 480 | elapsed: 51.9min finished\n"
     ]
    },
    {
     "data": {
      "text/plain": [
       "GridSearchCV(cv=5, error_score=nan,\n",
       "             estimator=Pipeline(memory=None,\n",
       "                                steps=[('tvec',\n",
       "                                        TfidfVectorizer(analyzer='word',\n",
       "                                                        binary=False,\n",
       "                                                        decode_error='strict',\n",
       "                                                        dtype=<class 'numpy.float64'>,\n",
       "                                                        encoding='utf-8',\n",
       "                                                        input='content',\n",
       "                                                        lowercase=True,\n",
       "                                                        max_df=1.0,\n",
       "                                                        max_features=None,\n",
       "                                                        min_df=1,\n",
       "                                                        ngram_range=(1, 1),\n",
       "                                                        norm='l2',\n",
       "                                                        preprocessor=None,\n",
       "                                                        smooth_idf=True,\n",
       "                                                        stop_words=None,\n",
       "                                                        strip_acce...\n",
       "                         'mb__fit_prior': [True, False],\n",
       "                         'tvec__max_features': [1000, 3000],\n",
       "                         'tvec__min_df': [5, 10],\n",
       "                         'tvec__stop_words': [None,\n",
       "                                              ['the', 'and', 'to', 'of', 'was',\n",
       "                                               'with', 'a', 'on', 'in', 'for',\n",
       "                                               'name', 'is', 'patient', 's',\n",
       "                                               'he', 'at', 'as', 'or', 'one',\n",
       "                                               'she', 'his', 'her', 'am',\n",
       "                                               'were', 'you', 'pt', 'pm', 'by',\n",
       "                                               'be', 'had', ...]]},\n",
       "             pre_dispatch='2*n_jobs', refit=True, return_train_score=False,\n",
       "             scoring=None, verbose=1)"
      ]
     },
     "execution_count": 79,
     "metadata": {},
     "output_type": "execute_result"
    }
   ],
   "source": [
    "from sklearn.pipeline import Pipeline\n",
    "# Pipeline & Gridsearch setup: TFIDF pipeline setup\n",
    "tvc_pipe = Pipeline([\n",
    " ('tvec', TfidfVectorizer()),\n",
    " ('mb', MultinomialNB())\n",
    "])\n",
    "\n",
    "# Setting params for TFIDF Vectorizer gridsearch\n",
    "tf_params = {\n",
    "    'tvec__min_df':[5, 10],\n",
    "    'tvec__max_features':[1000, 3000],\n",
    "    'tvec__stop_words': [None, my_stop_words],\n",
    "    'mb__alpha': np.linspace(0.5, 1.5, 6),\n",
    "    'mb__fit_prior': [True, False], \n",
    "}\n",
    "\n",
    "# Setting up GridSearch for TFIDFVectorizer\n",
    "tvc_gs = GridSearchCV(tvc_pipe, param_grid=tf_params, cv = 5, verbose =1, n_jobs = -1)\n",
    "\n",
    "# Fitting TVC GS\n",
    "tvc_gs.fit(x_train, y_train)"
   ]
  },
  {
   "cell_type": "code",
   "execution_count": 80,
   "metadata": {},
   "outputs": [
    {
     "name": "stdout",
     "output_type": "stream",
     "text": [
      "0.7313843508168529\n",
      "0.7308463698355395\n"
     ]
    }
   ],
   "source": [
    "print(tvc_gs.score(x_train, y_train))\n",
    "print(tvc_gs.score(x_test, y_test))"
   ]
  },
  {
   "cell_type": "code",
   "execution_count": 81,
   "metadata": {},
   "outputs": [
    {
     "data": {
      "text/plain": [
       "{'mb__alpha': 0.5,\n",
       " 'mb__fit_prior': True,\n",
       " 'tvec__max_features': 1000,\n",
       " 'tvec__min_df': 5,\n",
       " 'tvec__stop_words': None}"
      ]
     },
     "execution_count": 81,
     "metadata": {},
     "output_type": "execute_result"
    }
   ],
   "source": [
    "tvc_gs.best_params_"
   ]
  },
  {
   "cell_type": "code",
   "execution_count": 83,
   "metadata": {},
   "outputs": [],
   "source": [
    "# TfidfVectorizer is used instead of CountVectorizer because the former performs better with the return frequency ratio instead of count only\n",
    "# set min_df to 5 to avoid using words that only appeared once or twice\n",
    "vect = TfidfVectorizer(min_df=5, max_features = 1000, lowercase=True, tokenizer=tokenizer_better,\n",
    "                       stop_words=my_stop_words, use_idf=True)\n"
   ]
  },
  {
   "cell_type": "code",
   "execution_count": 84,
   "metadata": {},
   "outputs": [],
   "source": [
    "# extract word features from TEXT\n",
    "feature_words = vect.fit_transform(master['TEXT_CL'].values)"
   ]
  },
  {
   "cell_type": "code",
   "execution_count": 98,
   "metadata": {},
   "outputs": [
    {
     "data": {
      "text/plain": [
       "1000"
      ]
     },
     "execution_count": 98,
     "metadata": {},
     "output_type": "execute_result"
    }
   ],
   "source": [
    "feature_words.shape[1]"
   ]
  },
  {
   "cell_type": "markdown",
   "metadata": {},
   "source": [
    "## Term frequency Analysis"
   ]
  },
  {
   "cell_type": "code",
   "execution_count": 75,
   "metadata": {},
   "outputs": [
    {
     "data": {
      "text/html": [
       "<div>\n",
       "<style scoped>\n",
       "    .dataframe tbody tr th:only-of-type {\n",
       "        vertical-align: middle;\n",
       "    }\n",
       "\n",
       "    .dataframe tbody tr th {\n",
       "        vertical-align: top;\n",
       "    }\n",
       "\n",
       "    .dataframe thead th {\n",
       "        text-align: right;\n",
       "    }\n",
       "</style>\n",
       "<table border=\"1\" class=\"dataframe\">\n",
       "  <thead>\n",
       "    <tr style=\"text-align: right;\">\n",
       "      <th></th>\n",
       "      <th>negative</th>\n",
       "      <th>positive</th>\n",
       "      <th>total</th>\n",
       "    </tr>\n",
       "  </thead>\n",
       "  <tbody>\n",
       "    <tr>\n",
       "      <th>tablet</th>\n",
       "      <td>992.310520</td>\n",
       "      <td>387.836987</td>\n",
       "      <td>1380.147507</td>\n",
       "    </tr>\n",
       "    <tr>\n",
       "      <th>po</th>\n",
       "      <td>749.073190</td>\n",
       "      <td>297.585820</td>\n",
       "      <td>1046.659010</td>\n",
       "    </tr>\n",
       "    <tr>\n",
       "      <th>no</th>\n",
       "      <td>761.600327</td>\n",
       "      <td>273.076868</td>\n",
       "      <td>1034.677195</td>\n",
       "    </tr>\n",
       "    <tr>\n",
       "      <th>sig</th>\n",
       "      <td>679.406843</td>\n",
       "      <td>275.779843</td>\n",
       "      <td>955.186686</td>\n",
       "    </tr>\n",
       "    <tr>\n",
       "      <th>daily</th>\n",
       "      <td>593.022781</td>\n",
       "      <td>241.891088</td>\n",
       "      <td>834.913869</td>\n",
       "    </tr>\n",
       "    <tr>\n",
       "      <th>blood</th>\n",
       "      <td>563.193389</td>\n",
       "      <td>206.758499</td>\n",
       "      <td>769.951888</td>\n",
       "    </tr>\n",
       "    <tr>\n",
       "      <th>discharge</th>\n",
       "      <td>538.197847</td>\n",
       "      <td>193.151320</td>\n",
       "      <td>731.349166</td>\n",
       "    </tr>\n",
       "    <tr>\n",
       "      <th>day</th>\n",
       "      <td>531.507935</td>\n",
       "      <td>190.970588</td>\n",
       "      <td>722.478523</td>\n",
       "    </tr>\n",
       "    <tr>\n",
       "      <th>hospital</th>\n",
       "      <td>484.480507</td>\n",
       "      <td>189.041886</td>\n",
       "      <td>673.522393</td>\n",
       "    </tr>\n",
       "    <tr>\n",
       "      <th>last</th>\n",
       "      <td>415.675433</td>\n",
       "      <td>151.579933</td>\n",
       "      <td>567.255366</td>\n",
       "    </tr>\n",
       "  </tbody>\n",
       "</table>\n",
       "</div>"
      ],
      "text/plain": [
       "             negative    positive        total\n",
       "tablet     992.310520  387.836987  1380.147507\n",
       "po         749.073190  297.585820  1046.659010\n",
       "no         761.600327  273.076868  1034.677195\n",
       "sig        679.406843  275.779843   955.186686\n",
       "daily      593.022781  241.891088   834.913869\n",
       "blood      563.193389  206.758499   769.951888\n",
       "discharge  538.197847  193.151320   731.349166\n",
       "day        531.507935  190.970588   722.478523\n",
       "hospital   484.480507  189.041886   673.522393\n",
       "last       415.675433  151.579933   567.255366"
      ]
     },
     "execution_count": 75,
     "metadata": {},
     "output_type": "execute_result"
    }
   ],
   "source": [
    "# create sparse matrix containing terms and document frequencies that are predictive of the positive and negative class\n",
    "neg_doc_matrix = vect.transform(\n",
    "    df_clean[df_clean.READMISSION_30DAYS == 0].TEXT)\n",
    "pos_doc_matrix = vect.transform(\n",
    "    df_clean[df_clean.READMISSION_30DAYS == 1].TEXT)\n",
    "neg_tf = np.sum(neg_doc_matrix, axis=0)\n",
    "pos_tf = np.sum(pos_doc_matrix, axis=0)\n",
    "neg = np.squeeze(np.asarray(neg_tf))\n",
    "pos = np.squeeze(np.asarray(pos_tf))\n",
    "# combine the spare matrices into a dataframe to derive the total doc_frequencies for each term\n",
    "term_freq_df = pd.DataFrame(\n",
    "    [neg, pos], columns=vect.get_feature_names()).transpose()\n",
    "term_freq_df.columns = ['negative', 'positive']\n",
    "term_freq_df['total'] = term_freq_df['negative'] + term_freq_df['positive']\n",
    "term_freq_df.sort_values(by='total', ascending=False).iloc[:10]"
   ]
  },
  {
   "cell_type": "code",
   "execution_count": 76,
   "metadata": {},
   "outputs": [
    {
     "data": {
      "image/png": "[encoded data removed]",
      "text/plain": [
       "<Figure size 720x432 with 1 Axes>"
      ]
     },
     "metadata": {
      "needs_background": "light"
     },
     "output_type": "display_data"
    },
    {
     "data": {
      "image/png": "[encoded data removed]",
      "text/plain": [
       "<Figure size 720x432 with 1 Axes>"
      ]
     },
     "metadata": {
      "needs_background": "light"
     },
     "output_type": "display_data"
    }
   ],
   "source": [
    "# create a series from the sparse matrix\n",
    "d = pd.Series(term_freq_df.total,\n",
    "              index=term_freq_df.index).sort_values(ascending=False)\n",
    "# plot term frequency for first 50 words\n",
    "ax = d[:50].plot(kind='bar', figsize=(10, 6), width=.8,\n",
    "                 fontsize=14, rot=90, color='b')\n",
    "ax.title.set_size(18)\n",
    "plt.ylabel('count')\n",
    "plt.show()\n",
    "# plot term frequency for 50th to 100th words\n",
    "ax = d[50:100].plot(kind='bar', figsize=(10, 6), width=.8,\n",
    "                    fontsize=14, rot=90, color='g')\n",
    "ax.title.set_size(18)\n",
    "plt.ylabel('count')\n",
    "plt.show()"
   ]
  },
  {
   "cell_type": "markdown",
   "metadata": {},
   "source": [
    "## Building NLP Model"
   ]
  },
  {
   "cell_type": "code",
   "execution_count": 85,
   "metadata": {},
   "outputs": [],
   "source": [
    "# splitting dataset for training and testing\n",
    "Xtrain_w, Xtest_w, y_train_w, y_test_w = train_test_split(feature_words,master.READMISSION_30DAYS,\n",
    "                                        test_size=0.3,train_size=0.7, random_state = 0)"
   ]
  },
  {
   "cell_type": "code",
   "execution_count": 97,
   "metadata": {},
   "outputs": [
    {
     "name": "stdout",
     "output_type": "stream",
     "text": [
      "AUC on training data:  65.504%\n",
      "AUC on test data:  63.376%\n"
     ]
    }
   ],
   "source": [
    "# build and evaluate a Multinomial Naive Bayes model using only word features from discharge notes\n",
    "model = MultinomialNB(alpha = 1, fit_prior = True)\n",
    "clf = model.fit(Xtrain_w, y_train_w)\n",
    "\n",
    "y_train_preds = clf.predict_proba(Xtrain_w)[:,1]\n",
    "y_valid_preds = clf.predict_proba(Xtest_w)[:,1]\n",
    "\n",
    "auc_train = roc_auc_score(y_train_w, y_train_preds)\n",
    "auc_valid = roc_auc_score(y_test_w, y_valid_preds)\n",
    "\n",
    "print (\"AUC on training data: \",\"{0:.3%}\".format(auc_train))\n",
    "print (\"AUC on test data: \",\"{0:.3%}\".format(auc_valid))"
   ]
  },
  {
   "cell_type": "code",
   "execution_count": 92,
   "metadata": {},
   "outputs": [
    {
     "name": "stdout",
     "output_type": "stream",
     "text": [
      "threshold probability: 0.35\n",
      "              precision    recall  f1-score   support\n",
      "\n",
      "         0.0       0.74      0.95      0.84      1822\n",
      "         1.0       0.45      0.10      0.17       671\n",
      "\n",
      "    accuracy                           0.73      2493\n",
      "   macro avg       0.60      0.53      0.50      2493\n",
      "weighted avg       0.66      0.73      0.66      2493\n",
      "\n",
      "tn:  1740 fp:  82 fn:  603 tp:  68\n"
     ]
    }
   ],
   "source": [
    "from sklearn.metrics import classification_report, confusion_matrix\n",
    "\n",
    "y_valid_pred_class = pd.Series(y_valid_preds).apply(lambda x: 1.0 if x >= 0.39 else 0.0)\n",
    "print('threshold probability: 0.35')\n",
    "print(classification_report(y_test, y_valid_pred_class))\n",
    "\n",
    "tn, fp, fn, tp = (confusion_matrix(y_test, y_valid_pred_class).ravel())\n",
    "print('tn: ',tn,'fp: ',fp,'fn: ',fn,'tp: ',tp)"
   ]
  },
  {
   "cell_type": "markdown",
   "metadata": {},
   "source": [
    "## What are the strongly predictive features?\n",
    "\n",
    "Below is a neat trick to identify strongly predictive features (i.e. words). \n",
    "\n",
    "* first, create a data set such that each row has exactly one feature. This is represented by the identity matrix.\n",
    "* use the trained classifier to make predictions on this matrix\n",
    "* sort the rows by predicted probabilities, and pick the top and bottom $K$ rows"
   ]
  },
  {
   "cell_type": "code",
   "execution_count": 19,
   "metadata": {},
   "outputs": [
    {
     "name": "stdout",
     "output_type": "stream",
     "text": [
      "High probability readmission words\tP(readmit<30 | word)\n",
      "   echocardiographic 0.4207\n",
      "        transitional 0.4214\n",
      "               trach 0.4236\n",
      "                 peg 0.4252\n",
      "                  br 0.4275\n",
      "             lifting 0.4311\n",
      "        neurosurgery 0.4330\n",
      "          herniation 0.4780\n",
      "                 sdh 0.5471\n",
      "            subdural 0.5592\n",
      "Low probability readmission words\tP(readmit<30 | word)\n",
      "             suicide 0.1467\n",
      "               crohn 0.1494\n",
      "     catheterization 0.1579\n",
      "         phosphatase 0.1673\n",
      "         nephrostomy 0.1683\n",
      "            alkaline 0.1701\n",
      "                ptca 0.1735\n",
      "             norvasc 0.1787\n",
      "       postoperative 0.1797\n",
      "   electrocardiogram 0.1832\n"
     ]
    }
   ],
   "source": [
    "# plot the top 10 words that are most predictive of the positive and negative class\n",
    "words = np.array(vect.get_feature_names())\n",
    "\n",
    "x = np.eye(Xtest_w.shape[1])\n",
    "probs = clf.predict_proba(x)[:, 1]\n",
    "ind = np.argsort(probs) # returned index of probs sorted in ascending order\n",
    "\n",
    "wk_words = words[ind[:10]]\n",
    "strg_words = words[ind[-10:]]\n",
    "\n",
    "wk_prob = probs[ind[:10]]\n",
    "strg_prob = probs[ind[-10:]]\n",
    "\n",
    "print(\"High probability readmission words\\tP(readmit<30 | word)\")\n",
    "for w, p in zip(strg_words, strg_prob):\n",
    "    print(\"{:>20}\".format(w), \"{:.4f}\".format(p))\n",
    "    \n",
    "print(\"Low probability readmission words\\tP(readmit<30 | word)\")\n",
    "for w, p in zip(wk_words, wk_prob):\n",
    "    print(\"{:>20}\".format(w), \"{:.4f}\".format(p))"
   ]
  }
 ],
 "metadata": {
  "kernelspec": {
   "display_name": "Python 3",
   "language": "python",
   "name": "python3"
  },
  "language_info": {
   "codemirror_mode": {
    "name": "ipython",
    "version": 3
   },
   "file_extension": ".py",
   "mimetype": "text/x-python",
   "name": "python",
   "nbconvert_exporter": "python",
   "pygments_lexer": "ipython3",
   "version": "3.7.1"
  },
  "toc": {
   "base_numbering": 1,
   "nav_menu": {},
   "number_sections": true,
   "sideBar": true,
   "skip_h1_title": false,
   "title_cell": "Table of Contents",
   "title_sidebar": "Contents",
   "toc_cell": false,
   "toc_position": {
    "height": "calc(100% - 180px)",
    "left": "10px",
    "top": "150px",
    "width": "165px"
   },
   "toc_section_display": true,
   "toc_window_display": true
  },
  "varInspector": {
   "cols": {
    "lenName": 16,
    "lenType": 16,
    "lenVar": 40
   },
   "kernels_config": {
    "python": {
     "delete_cmd_postfix": "",
     "delete_cmd_prefix": "del ",
     "library": "var_list.py",
     "varRefreshCmd": "print(var_dic_list())"
    },
    "r": {
     "delete_cmd_postfix": ") ",
     "delete_cmd_prefix": "rm(",
     "library": "var_list.r",
     "varRefreshCmd": "cat(var_dic_list()) "
    }
   },
   "position": {
    "height": "474px",
    "left": "651px",
    "right": "20px",
    "top": "177px",
    "width": "621px"
   },
   "types_to_exclude": [
    "module",
    "function",
    "builtin_function_or_method",
    "instance",
    "_Feature"
   ],
   "window_display": false
  }
 },
 "nbformat": 4,
 "nbformat_minor": 2
}
